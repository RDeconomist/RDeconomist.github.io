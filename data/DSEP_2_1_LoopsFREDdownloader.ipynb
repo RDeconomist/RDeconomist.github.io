{
  "nbformat": 4,
  "nbformat_minor": 0,
  "metadata": {
    "colab": {
      "provenance": [],
      "authorship_tag": "ABX9TyPFkO4iSMo+LXUtIthLHUpx",
      "include_colab_link": true
    },
    "kernelspec": {
      "name": "python3",
      "display_name": "Python 3"
    },
    "language_info": {
      "name": "python"
    }
  },
  "cells": [
    {
      "cell_type": "markdown",
      "metadata": {
        "id": "view-in-github",
        "colab_type": "text"
      },
      "source": [
        "<a href=\"https://colab.research.google.com/github/RDeconomist/RDeconomist.github.io/blob/main/data/DSEP_2_1_LoopsFREDdownloader.ipynb\" target=\"_parent\"><img src=\"https://colab.research.google.com/assets/colab-badge.svg\" alt=\"Open In Colab\"/></a>"
      ]
    },
    {
      "cell_type": "markdown",
      "metadata": {
        "id": "MgW76U999vsX"
      },
      "source": [
        "**Richard Davies**\n",
        "*Data Science for Economics and Policy - 2023*\n",
        "\n",
        "**Tutorial:** Using loops to batch download data from an API\n",
        "\n",
        "**Motivation:** You are asked by your Minister to build a dashboard for the US economy. This must take in 10 important series, each of them plotted with a line chart. The data will need to be re-downloaded each month, meaning that you are manually downloading 120 series per year, in order to keep your dashboard up to date. How can we bath process this, so that all downloads are done with one click?"
      ]
    },
    {
      "cell_type": "code",
      "metadata": {
        "id": "R7cjLu1cc8iT"
      },
      "source": [
        "# Preliminaries 1 - the format() method:\n",
        "# See: https://www.w3schools.com/python/ref_string_format.asp\n",
        "\n",
        "# Take a sentence, and put a placeholder {} where we want to insert something:\n",
        "sentence = \"The best rugby team in the world is {}\"\n",
        "# Now we can use .format() to insert something into this place:\n",
        "sentence.format('Wales')"
      ],
      "execution_count": null,
      "outputs": []
    },
    {
      "cell_type": "code",
      "metadata": {
        "id": "O1ILv0one-Dc"
      },
      "source": [
        "# Note: 'format()' method is a pre-defined piece of code that you must use;\n",
        "# But 'sentence' is just a variable name, it can be anything:\n",
        "x = \"The best football team in the world is {}\"\n",
        "x.format('Manchester United')"
      ],
      "execution_count": null,
      "outputs": []
    },
    {
      "cell_type": "code",
      "metadata": {
        "id": "GVOMTMYbdbBs"
      },
      "source": [
        "# Next note that we can put a variable within the format():\n",
        "sentence = \"The best team this year is {}\"\n",
        "team = 'Manchester City'\n",
        "sentence.format(team)\n",
        "# This allows us to change the sentence"
      ],
      "execution_count": null,
      "outputs": []
    },
    {
      "cell_type": "code",
      "metadata": {
        "id": "PqWu6Rt1cgGm"
      },
      "source": [
        "# // PRELIMINARIES 2 - Using the format method in a loop:\n",
        "\n",
        "sentence = \"The best team is {}\"\n",
        "teams = ['Manchester United', 'AC Milan', 'Barcelona', 'PSG', 'Bayern Munich', 'River Plate']\n",
        "\n",
        "# // Begin a loop, dealing with series one by one:\n",
        "for i in teams:\n",
        "\n",
        "   # // Everything that follows the for loop is indented. (On my machine, three spaces)\n",
        "   # // Build the URL for this iteration of the loop, and check what we are getting:\n",
        "   topTeam = sentence.format(i)\n",
        "   print(topTeam)"
      ],
      "execution_count": null,
      "outputs": []
    },
    {
      "cell_type": "code",
      "source": [
        "# // ASIDE - the loop in other langagues 1 - Stata\n",
        "\n",
        "# // In Stata:\n",
        "foreach i in \"Manchester United\" \"AC Milan\" \"Barcelona\" \"PSG\" \"Bayern Munich\" \"River Plate\"{\n",
        "  display(\"The best team is `i'\")\n",
        "  }\n",
        "\n",
        "# // Note: the backward and forward tick around i is important, `i'."
      ],
      "metadata": {
        "id": "qia3AXKv4Kt2"
      },
      "execution_count": null,
      "outputs": []
    },
    {
      "cell_type": "code",
      "source": [
        "# // ASIDE - the loop in other langagues 2 - JavaScript - preliminary 1\n",
        "\n",
        "# // Note that you can use JS in Collab by using \"Cell Magic\"\n",
        "# // \"Magics\" are a set of commands that help you do various things.\n",
        "# // See, e.g., this reference: https://colab.research.google.com/github/jakevdp/PythonDataScienceHandbook/blob/master/notebooks/01.03-Magic-Commands.ipynb#scrollTo=IP7qwmbq60-g\n",
        "# // One of them allow you to turn the cell into a JavaScrip cell\n",
        "\n",
        "%%javascript\n",
        "let message = \"I am now using JS in Collab to do Data Science for Economists\";\n",
        "console.log(message);\n",
        "document.querySelector(\"#output-area\").appendChild(document.createTextNode(message));\n"
      ],
      "metadata": {
        "id": "eaSRnDFK5WAu"
      },
      "execution_count": null,
      "outputs": []
    },
    {
      "cell_type": "code",
      "source": [
        "# // ASIDE - the loop in other langagues 2 - JavaScript - preliminary 2\n",
        "\n",
        "# // Declare Javacript:\n",
        "%%javascript\n",
        "\n",
        "// # Use \"Template Literals\" to put placeholders in string:\n",
        "// # This is akin to the format() method used in python above.\n",
        "var x = \"Data Science project\";\n",
        "var y = \"coming along nicely\"\n",
        "var message = `My ${x} is ${y}`\n",
        "\n",
        "// # Now display what we have:\n",
        "// # First in the concole:\n",
        "console.log(message)\n",
        "// # Next in the Collab output area\n",
        "document.querySelector(\"#output-area\").appendChild(document.createTextNode(message));\n",
        "\n"
      ],
      "metadata": {
        "id": "3yFpqMsQ7LZD"
      },
      "execution_count": null,
      "outputs": []
    },
    {
      "cell_type": "code",
      "source": [
        "# // ASIDE - the loop in other langagues 2 - JavaScript.\n",
        "# // This examples used the FOR OF loop:\n",
        "# // The for of loop is a simple loop that is very close to the Python loop in Syntax:\n",
        "\n",
        "%%javascript\n",
        "\n",
        "let teams = ['Manchester United', 'AC Milan', 'Barcelona', 'PSG', 'Bayern Munich', 'River Plate']\n",
        "\n",
        "for(i of teams){\n",
        "  console.log(`The best team according to Javascript is ${i}`)\n",
        "}\n",
        "\n",
        "// Note: the backwards ticks are important in `Sentence`\n",
        "// Compare this to the Python and Stata loops above."
      ],
      "metadata": {
        "id": "b6SC6W-JOJrd"
      },
      "execution_count": null,
      "outputs": []
    },
    {
      "cell_type": "code",
      "source": [
        "# // ASIDE - the loop in other langagues 2 - JavaScript - football team loop:\n",
        "\n",
        "# // Declare JS:\n",
        "%%javascript\n",
        "\n",
        "// # Initialise a viariable, as an array of team names:\n",
        "let teams = ['Manchester United', 'AC Milan', 'Barcelona', 'PSG', 'Bayern Munich', 'River Plate']\n",
        "\n",
        "// # JS loop syntax:\n",
        "// for(initialise value, stopping condition, updating condition){\n",
        "//    code to execute 1\n",
        "//    code to exectte 2\n",
        "//    ...\n",
        "//    code to execute N\n",
        "//    }\n",
        "\n",
        "// # Loop:\n",
        "for(let i=0; i<teams.length; i++){\n",
        "  let z = teams[i];\n",
        "  let message = `The best team is ${z}`;\n",
        "  document.querySelector(\"#output-area\").appendChild(document.createTextNode(message));\n",
        "  document.querySelector(\"#output-area\").appendChild(document.createTextNode(', '));\n",
        "}"
      ],
      "metadata": {
        "id": "JdK28InlJZ6h"
      },
      "execution_count": null,
      "outputs": []
    },
    {
      "cell_type": "code",
      "metadata": {
        "id": "TE84qaH2gBsV"
      },
      "source": [
        "# // PRELIMINARIES 3 - How does the API we are looking at work?\n",
        "# // Everything above is general, lets look at a specific API.\n",
        "\n",
        "# // Federal Reserve Economic Data, aka FRED.\n",
        "# // The API docs are here: https://fred.stlouisfed.org/docs/api/fred/\n",
        "\n",
        "# // The general form of the API is as follows:\n",
        "\"https://api.stlouisfed.org/fred/series/observations?series_id={SeriesID}&api_key={APIkey}&file_type={fileType}\"\n",
        "# // Note: the convention that when replacing \"{name here}\" we write \"Richard\" not \"{Richard}\". That is we get rid of the curly brackets.\n",
        "\n",
        "# // Some examples of the FRED API in action:\n",
        "# // The examples below use my API key. It should work for you, but please sign up for your own.\n",
        "\n",
        "# // 1. INFLATION\n",
        "\"https://api.stlouisfed.org/fred/series/observations?series_id=PCEPI&api_key=22ee7a76e736e32f54f5df0a7171538d&file_type=json\"\n",
        "\n",
        "# // 2. 10-YEAR GOVERNMETN BOND:\n",
        "\"https://api.stlouisfed.org/fred/series/observations?series_id=DGS10&api_key=22ee7a76e736e32f54f5df0a7171538d&file_type=json\"\n",
        "\n",
        "# // 3. UNEMPLOYMENT RATE:\n",
        "\"https://api.stlouisfed.org/fred/series/observations?series_id=UNRATE&api_key=22ee7a76e736e32f54f5df0a7171538d&file_type=json\"\n",
        "\n",
        "# // These are clearly very similar. The only thing that changes is the series Id.\n",
        "\n",
        "####################################"
      ],
      "execution_count": null,
      "outputs": []
    },
    {
      "cell_type": "code",
      "source": [
        "# // PUTTING THINGS TOGETHER 1 - A loop of all our variables:\n",
        "\n",
        "# // Set a base URL.\n",
        "# // This includes everthing that does not change in our loop.\n",
        "# // And a placeholder \"{}\" for the part that does change.\n",
        "url_base = \"https://api.stlouisfed.org/fred/series/observations?series_id={}&api_key=22ee7a76e736e32f54f5df0a7171538d&file_type=json\"\n",
        "\n",
        "# NOW PICK ALL THE SERIES THAT WE ARE INTERESTED IN:\n",
        "fredSeries = ['PCEPI', 'CPIAUCSL', 'PAYEMS', 'DGS10', 'INDPRO', 'UNRATE', 'LES1252881600Q']\n",
        "\n",
        "# // Begin a loop, dealing with series one by one:\n",
        "for i in fredSeries:\n",
        "   # // Build the URL for this iteration of the loop, and check what we are getting:\n",
        "   URL = url_base.format(i)\n",
        "   print(URL)"
      ],
      "metadata": {
        "id": "YxNSRaMW88sB"
      },
      "execution_count": null,
      "outputs": []
    },
    {
      "cell_type": "code",
      "metadata": {
        "id": "FP7IPVZU9pVB"
      },
      "source": [
        "# // PUTTING THINGS TOGETHER 2 - Importing some tools that we will need:\n",
        "\n",
        "# // Opening web sites and web scraping:\n",
        "import requests\n",
        "\n",
        "# // JSON. This helps us make JSON look prettier and easier to read\n",
        "import json\n",
        "\n",
        "# /// Files.  This is part of Collab - allows you to upload and download files\n",
        "from google.colab import files\n",
        "\n",
        "# // OS. Sometimes need this for finding working directory:\n",
        "import os"
      ],
      "execution_count": null,
      "outputs": []
    },
    {
      "cell_type": "code",
      "source": [
        "## // An aside: checking which versions of thins are running\n",
        "print(requests.__version__)\n",
        "print(json.__version__)"
      ],
      "metadata": {
        "id": "fI8jEeXt-ZE9"
      },
      "execution_count": null,
      "outputs": []
    },
    {
      "cell_type": "code",
      "metadata": {
        "id": "Gp5sjW0ohPys"
      },
      "source": [
        "## // Getting data from a single API call:\n",
        "\n",
        "url = \"https://api.stlouisfed.org/fred/series/observations?series_id=DGS10&api_key=22ee7a76e736e32f54f5df0a7171538d&file_type=json\"\n",
        "\n",
        "# We use'requests' which we installed above:\n",
        "data = requests.get(url).json()\n",
        "\n",
        "# Print what we got\n",
        "data"
      ],
      "execution_count": null,
      "outputs": []
    },
    {
      "cell_type": "code",
      "metadata": {
        "id": "Dqk8xK0Qiuvt"
      },
      "source": [
        "# // Downloading the date from a single API call:\n",
        "\n",
        "# // Based on the steps above, we have a variable \"data\" which has data on the US Government 10 year yield.\n",
        "\n",
        "# // Set the filename, and check what we are getting:\n",
        "fileName = \"data_FRED-DGS10.json\"\n",
        "print(fileName)\n",
        "# // Note: again the file name can be anything.\n",
        "\n",
        "# /// Save the file:\n",
        "with open(fileName, 'w', encoding='utf-8') as f:\n",
        "  json.dump(data, f, ensure_ascii=False, indent=4)\n",
        "\n",
        "# /// Download the file to local machine:\n",
        "files.download('data_FRED-DGS10.json')"
      ],
      "execution_count": null,
      "outputs": []
    },
    {
      "cell_type": "code",
      "metadata": {
        "id": "WSfh5-1M90um"
      },
      "source": [
        "# // PUTTING IT ALL TOGETHER:\n",
        "\n",
        "# // Set the base url:\n",
        "url_base = \"https://api.stlouisfed.org/fred/series/observations?series_id={}&api_key=22ee7a76e736e32f54f5df0a7171538d&file_type=json\"\n",
        "\n",
        "# // Set the base fileName:\n",
        "file_base = \"data_FRED-{}.json\"\n",
        "\n",
        "# // Pick the series that I want:\n",
        "fredSeries = ['PCEPI', 'CPIAUCSL', 'PAYEMS', 'DGS10', 'INDPRO', 'UNRATE', 'LES1252881600Q']\n",
        "\n",
        "# // Begin a loop, dealing with each series, one by one:\n",
        "for i in fredSeries:\n",
        "\n",
        "   # // In what follows below I print the iteration of the loop we are on:\n",
        "   # // This is not necessary but can be helpful, esp with long loops:\n",
        "   print(\"------Iteration Starts--------\")\n",
        "   print(i)\n",
        "\n",
        "   # // Build the URL for this iteration of the loop, and check what we are getting:\n",
        "   URL = url_base.format(i)\n",
        "   print(URL)\n",
        "\n",
        "   # // Request the html from the URL:\n",
        "   data = requests.get(URL).json()\n",
        "   print(data)\n",
        "\n",
        "   # // Set the filename, and check what we are getting:\n",
        "   fileName = file_base.format(i)\n",
        "   print(fileName)\n",
        "\n",
        "   # // Add some white space to our output. (This is purely so we can see what is happening below clearly)\n",
        "   print(\"------Iteration Ends--------\")\n",
        "\n",
        "   # /// Save the file:\n",
        "   with open(fileName, 'w', encoding='utf-8') as f:\n",
        "     json.dump(data, f, ensure_ascii=False, indent=4)\n",
        "\n",
        "   # /// Download the file to local machine:\n",
        "   files.download(fileName)"
      ],
      "execution_count": null,
      "outputs": []
    },
    {
      "cell_type": "markdown",
      "source": [
        "**Richard Davies**\n",
        "*Data Science for Economics and Policy 2023*"
      ],
      "metadata": {
        "id": "xIGhoyycEGvv"
      }
    }
  ]
}