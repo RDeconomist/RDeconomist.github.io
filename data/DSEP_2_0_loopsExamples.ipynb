{
  "nbformat": 4,
  "nbformat_minor": 0,
  "metadata": {
    "colab": {
      "provenance": [],
      "authorship_tag": "ABX9TyOSVwMY4GW6w4qj3D/RUJoR",
      "include_colab_link": true
    },
    "kernelspec": {
      "name": "python3",
      "display_name": "Python 3"
    },
    "language_info": {
      "name": "python"
    }
  },
  "cells": [
    {
      "cell_type": "markdown",
      "metadata": {
        "id": "view-in-github",
        "colab_type": "text"
      },
      "source": [
        "<a href=\"https://colab.research.google.com/github/RDeconomist/RDeconomist.github.io/blob/main/data/DSEP_2_0_loopsExamples.ipynb\" target=\"_parent\"><img src=\"https://colab.research.google.com/assets/colab-badge.svg\" alt=\"Open In Colab\"/></a>"
      ]
    },
    {
      "cell_type": "code",
      "execution_count": null,
      "metadata": {
        "id": "WgjKHDAzhJpW"
      },
      "outputs": [],
      "source": []
    },
    {
      "cell_type": "markdown",
      "source": [
        "**Richard Davies** Data Science for Economics and Policy - 2023\n",
        "\n",
        "**Tutorial**: First loops"
      ],
      "metadata": {
        "id": "RYErgkeShNWu"
      }
    },
    {
      "cell_type": "markdown",
      "source": [
        "Loop tutorials will typically start with an example like the one below - lets take a look."
      ],
      "metadata": {
        "id": "DdmICQ-Ikork"
      }
    },
    {
      "cell_type": "code",
      "source": [
        "locations = [\"Swansea\", \"Cardiff\", \"Newport\"]\n",
        "\n",
        "## OK so we have a list of locations.\n",
        "\n",
        "## One rule to remember is that indexing starts at 0. So the array above has positions 0, 1 and 2. Asking for position 3--which would seem to be Newport--will throw an error.\n",
        "\n",
        "## If we want to retrive the locations we can therefore write:\n",
        "\n",
        "print(locations[0])\n",
        "print(locations[1])\n",
        "print(locations[2])\n",
        "\n",
        "## Try this!\n"
      ],
      "metadata": {
        "colab": {
          "base_uri": "https://localhost:8080/"
        },
        "id": "t3ufbugRhO2L",
        "outputId": "49d31725-abe0-4ebe-93be-b9c7ad08d7c4"
      },
      "execution_count": null,
      "outputs": [
        {
          "output_type": "stream",
          "name": "stdout",
          "text": [
            "Darlington\n",
            "Newport\n",
            "London\n"
          ]
        }
      ]
    },
    {
      "cell_type": "markdown",
      "source": [
        "Any time we have repetitive code like the above, we should consider a loop. This is not just to show off. Manually copying code like the above leads to errors, and it is time consuming. Loops make you more accrate, and more efficient."
      ],
      "metadata": {
        "id": "0XW3XVXCl8lt"
      }
    },
    {
      "cell_type": "code",
      "source": [
        "## Here is our first loop:\n",
        "\n",
        "locations = [\"Darlington\", \"London\", \"Newport\"]\n",
        "\n",
        "for location in locations:\n",
        "  print(location)"
      ],
      "metadata": {
        "colab": {
          "base_uri": "https://localhost:8080/"
        },
        "id": "QBaBknQBmQif",
        "outputId": "9c08a092-b76b-4e85-b0c5-3622848acf8a"
      },
      "execution_count": null,
      "outputs": [
        {
          "output_type": "stream",
          "name": "stdout",
          "text": [
            "Darlington\n",
            "London\n",
            "Newport\n"
          ]
        }
      ]
    },
    {
      "cell_type": "markdown",
      "source": [
        "A note on coding norms. I find the usage above really confusing. It seems to suggest that the singluar/plural matters in some way. For example, you will see lots of tutorials where you have \"for fruit in fruits\" or something of this nature.\n",
        "\n",
        "The names themselves can be ignored, it is what they represent that matters. In the first line we define list of locations. The name that comes after the for is just an indentifier that iterates over list."
      ],
      "metadata": {
        "id": "OFDG7nfchzWO"
      }
    },
    {
      "cell_type": "code",
      "source": [
        "placeList = [\"Darlington\", \"Newport\", \"London\"]\n",
        "for i in placeList:\n",
        "  print(i)"
      ],
      "metadata": {
        "colab": {
          "base_uri": "https://localhost:8080/"
        },
        "id": "3PLZr7Y9idCU",
        "outputId": "e3c83c94-d067-4399-aa0c-eb20250fa992"
      },
      "execution_count": null,
      "outputs": [
        {
          "output_type": "stream",
          "name": "stdout",
          "text": [
            "Darlington\n",
            "Newport\n",
            "London\n"
          ]
        }
      ]
    },
    {
      "cell_type": "markdown",
      "source": [
        "Lets pause to discuss this. For those of you that understand loops already, how can you mend the following code: (a) so that it works, and (b) so that it makes sense to a human?"
      ],
      "metadata": {
        "id": "ME84EV8wj3QP"
      }
    },
    {
      "cell_type": "code",
      "source": [
        "words = [\"lovely\", \"city\", \"is\", \"a\", \"Darlington\"]\n",
        "numbers = [1,2,3,4,5]\n",
        "for i in numbers:\n",
        "  print(words)\n",
        "  print(words[i])\n"
      ],
      "metadata": {
        "id": "4myH65tWi2H2"
      },
      "execution_count": null,
      "outputs": []
    },
    {
      "cell_type": "code",
      "source": [
        "## Here is some mended code:\n",
        "\n",
        "words = [\"lovely\", \"city\", \"is\", \"a\", \"Darlington\"]\n",
        "numbers = [0,1,2,3,4]\n",
        "richard = [4,2,3,0,1]\n",
        "\n",
        "for i in numbers:\n",
        "  print(words[i])\n",
        "\n",
        "print(\"\\n\") # This is just a new line. Not needed just makes a break between the output.\n",
        "\n",
        "for x in richard:\n",
        "  print(words[x])"
      ],
      "metadata": {
        "colab": {
          "base_uri": "https://localhost:8080/"
        },
        "id": "SRJpRVs6nMhd",
        "outputId": "ea7e913c-dbff-4c19-e98b-24dbf8772d34"
      },
      "execution_count": null,
      "outputs": [
        {
          "output_type": "stream",
          "name": "stdout",
          "text": [
            "lovely\n",
            "city\n",
            "is\n",
            "a\n",
            "Darlington\n",
            "\n",
            "\n",
            "Darlington\n",
            "is\n",
            "a\n",
            "lovely\n",
            "city\n"
          ]
        }
      ]
    },
    {
      "cell_type": "markdown",
      "source": [],
      "metadata": {
        "id": "hieV3E78kq_w"
      }
    }
  ]
}