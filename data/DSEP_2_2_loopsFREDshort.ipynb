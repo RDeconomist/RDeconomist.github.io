{
  "nbformat": 4,
  "nbformat_minor": 0,
  "metadata": {
    "colab": {
      "provenance": [],
      "authorship_tag": "ABX9TyOS+Loew32IUGahgF0vZIPY",
      "include_colab_link": true
    },
    "kernelspec": {
      "name": "python3",
      "display_name": "Python 3"
    },
    "language_info": {
      "name": "python"
    }
  },
  "cells": [
    {
      "cell_type": "markdown",
      "metadata": {
        "id": "view-in-github",
        "colab_type": "text"
      },
      "source": [
        "<a href=\"https://colab.research.google.com/github/RDeconomist/RDeconomist.github.io/blob/main/data/DSEP_2_2_loopsFREDshort.ipynb\" target=\"_parent\"><img src=\"https://colab.research.google.com/assets/colab-badge.svg\" alt=\"Open In Colab\"/></a>"
      ]
    },
    {
      "cell_type": "markdown",
      "metadata": {
        "id": "MgW76U999vsX"
      },
      "source": [
        "**Richard Davies**\n",
        "*Data Science for Economics and Policy - 2023*\n",
        "\n",
        "**Tutorial:** Short verion - to use"
      ]
    },
    {
      "cell_type": "code",
      "source": [
        "# // FRED DOWNLOADER\n",
        "\n",
        "# // Import things:\n",
        "import requests\n",
        "import json\n",
        "from google.colab import files\n",
        "import os\n",
        "\n",
        "# // Base url, filename, and series. url and filename have {} and will vary with each iteration of the loop\n",
        "url_base = \"https://api.stlouisfed.org/fred/series/observations?series_id={}&api_key=22ee7a76e736e32f54f5df0a7171538d&file_type=json\"\n",
        "file_base = \"data_FRED-{}.json\"\n",
        "fredSeries = ['PCEPI', 'CPIAUCSL', 'PAYEMS', 'DGS10', 'INDPRO', 'UNRATE', 'LES1252881600Q']\n",
        "\n",
        "# // Downloader loop:\n",
        "for i in fredSeries:\n",
        "   URL = url_base.format(i)\n",
        "   data = requests.get(URL).json()\n",
        "   fileName = file_base.format(i)\n",
        "   with open(fileName, 'w', encoding='utf-8') as f:\n",
        "     json.dump(data, f, ensure_ascii=False, indent=4)\n",
        "   files.download(fileName)"
      ],
      "metadata": {
        "id": "YxNSRaMW88sB"
      },
      "execution_count": null,
      "outputs": []
    },
    {
      "cell_type": "markdown",
      "source": [
        "**Richard Davies**\n",
        "*Data Science for Economics and Policy 2023*"
      ],
      "metadata": {
        "id": "xIGhoyycEGvv"
      }
    }
  ]
}