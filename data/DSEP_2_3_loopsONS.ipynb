{
  "nbformat": 4,
  "nbformat_minor": 0,
  "metadata": {
    "colab": {
      "provenance": [],
      "authorship_tag": "ABX9TyNPg3lngV3lY0OZyLDXGlY2",
      "include_colab_link": true
    },
    "kernelspec": {
      "name": "python3",
      "display_name": "Python 3"
    },
    "language_info": {
      "name": "python"
    }
  },
  "cells": [
    {
      "cell_type": "markdown",
      "metadata": {
        "id": "view-in-github",
        "colab_type": "text"
      },
      "source": [
        "<a href=\"https://colab.research.google.com/github/RDeconomist/RDeconomist.github.io/blob/main/data/DSEP_2_3_loopsONS.ipynb\" target=\"_parent\"><img src=\"https://colab.research.google.com/assets/colab-badge.svg\" alt=\"Open In Colab\"/></a>"
      ]
    },
    {
      "cell_type": "markdown",
      "metadata": {
        "id": "TQX5R5PdspnG"
      },
      "source": [
        "**Richard Davies** Data Science for Economics and Policy - 2023\n",
        "\n",
        "**Tutorial**: Using the ONS API with a loop\n",
        "\n",
        "**Motivation**: The ONS API is more complex than FRED since it has two parts that change: the series, and the dataset. This is common to lots of APIs, including the Economics Observatory API. This tutorial discusses how to use the string format method with named placeholders in order to form usable API urls."
      ]
    },
    {
      "cell_type": "code",
      "source": [
        "# // The basic ONS API looks like this:\n",
        "\n",
        "\"https://api.ons.gov.uk/timeseries/L55O/dataset/MM23/data\"\n",
        "\n",
        "# // Click on the link above and you will see data on inflation.\n",
        "\n",
        "# // There are TWO things that could change here, the series and the dataset.\n",
        "\n",
        "# // Using our placholders we can write this as:\n",
        "\n",
        "\"https://api.ons.gov.uk/timeseries/{}/dataset/{}/data\"\n",
        "\n",
        "# // We will need a way to differentiate between the two placeholders.\n",
        "# // This can be done using numbers or words\n",
        "\n",
        "\"https://api.ons.gov.uk/timeseries/{1}/dataset/{2}/data\"\n",
        "\n",
        "# // Our challenge now is to fill spaces {1} and {2} with the things that we want.\n",
        "\n",
        "# // Lets try this to build some logic:\n",
        "\n",
        "url_base = \"https://api.ons.gov.uk/timeseries/{1}/dataset/{2}/data\"\n",
        "\n",
        "URL = url_base.format(\"mySeries\", \"myDataset\")\n",
        "print(URL)\n",
        "\n",
        "## Why does this not work?"
      ],
      "metadata": {
        "id": "IUDkljWhqEqA"
      },
      "execution_count": null,
      "outputs": []
    },
    {
      "cell_type": "code",
      "source": [
        "## Remember that positions start at 0:\n",
        "\n",
        "url_base = \"https://api.ons.gov.uk/timeseries/{1}/dataset/{2}/data\"\n",
        "\n",
        "URL2 = url_base.format(\"mySeries\", \"myDataset\", \"apple\")\n",
        "print(URL2)\n",
        "\n",
        "## Q.  What will this code produce?\n",
        "\n"
      ],
      "metadata": {
        "id": "ieAvgQeJsMMr"
      },
      "execution_count": null,
      "outputs": []
    },
    {
      "cell_type": "code",
      "source": [
        "## Remember that positions start at 0:\n",
        "\n",
        "url_base = \"https://api.ons.gov.uk/timeseries/{0}/dataset/{1}/data\"\n",
        "\n",
        "URL3 = url_base.format(\"L55O\", \"MM23\")\n",
        "print(URL3)\n",
        "\n",
        "## Q.  Run this code and test that the API works...\n",
        "## ! Note that 0 and O are different!\n"
      ],
      "metadata": {
        "id": "sUqxZRBJstU7"
      },
      "execution_count": null,
      "outputs": []
    },
    {
      "cell_type": "code",
      "metadata": {
        "id": "jWOQ6ZhRsfmj"
      },
      "source": [
        "## Using this practically:\n",
        "\n",
        "url_base = \"https://api.ons.gov.uk/timeseries/{0}/dataset/{1}/data\"\n",
        "codes = [['A', 'B'],['C', 'D']]\n",
        "\n",
        "URL1 = url_base.format(codes[0][0], codes[1][1])\n",
        "print(URL1)\n"
      ],
      "execution_count": null,
      "outputs": []
    },
    {
      "cell_type": "code",
      "source": [
        "## Using this practically:\n",
        "\n",
        "url_base = \"https://api.ons.gov.uk/timeseries/{0}/dataset/{1}/data\"\n",
        "codes = [['L55O', 'MM23'],['LZVB', 'PRDY']]\n",
        "\n",
        "URL1 = url_base.format(codes[0][0], codes[0][1])\n",
        "URL2 = url_base.format(codes[1][0], codes[1][1])\n",
        "print(URL1)\n",
        "print(URL2)\n",
        "\n",
        "## Discussion: how to practically make this work for policy purposes, using GitHub to store a list of codes."
      ],
      "metadata": {
        "id": "Ft3AkIAfu3F5"
      },
      "execution_count": null,
      "outputs": []
    },
    {
      "cell_type": "code",
      "source": [
        "## Using this practically:\n",
        "\n",
        "url_base = \"https://api.ons.gov.uk/timeseries/{0}/dataset/{1}/data\"\n",
        "longList = [['L55O', 'MM23'],['LZVB', 'PRDY']]\n",
        "\n",
        "for i in range(2):\n",
        "  print(i)\n",
        "  codes = longList[i]\n",
        "  print(codes)\n",
        "  URL = url_base.format(codes[0], codes[1])\n",
        "  print(URL)\n",
        "\n",
        "# Or alternatively:\n",
        "print(\"\\n\")\n",
        "\n",
        "for i in range(2):\n",
        "  URL2 = url_base.format(longList[i][0], longList[i][1])\n",
        "  print(URL2)\n",
        "\n",
        "# Discussion: How can we use the example above practically to maintain data sets we use regularly using a simple CSV on GitHub?\n",
        "\n"
      ],
      "metadata": {
        "id": "ElFYn1hlw-Qo"
      },
      "execution_count": null,
      "outputs": []
    }
  ]
}