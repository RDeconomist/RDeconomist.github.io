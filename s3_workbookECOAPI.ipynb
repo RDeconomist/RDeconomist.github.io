{
  "nbformat": 4,
  "nbformat_minor": 0,
  "metadata": {
    "colab": {
      "provenance": [],
      "authorship_tag": "ABX9TyPpU0j2zMo6h1Ke85QJImIe",
      "include_colab_link": true
    },
    "kernelspec": {
      "name": "python3",
      "display_name": "Python 3"
    },
    "language_info": {
      "name": "python"
    }
  },
  "cells": [
    {
      "cell_type": "markdown",
      "metadata": {
        "id": "view-in-github",
        "colab_type": "text"
      },
      "source": [
        "<a href=\"https://colab.research.google.com/github/RDeconomist/RDeconomist.github.io/blob/main/s3_workbookECOAPI.ipynb\" target=\"_parent\"><img src=\"https://colab.research.google.com/assets/colab-badge.svg\" alt=\"Open In Colab\"/></a>"
      ]
    },
    {
      "cell_type": "markdown",
      "source": [
        "**Richard Davies** Data Science Masterclass - 2024\n",
        "\n",
        "In this notebook we download a chart that we like and want to recreate, then looping over a list of countries to create multiple copies using different API-linked datasets."
      ],
      "metadata": {
        "id": "b77eKBKFAf5W"
      }
    },
    {
      "cell_type": "markdown",
      "source": [
        "<br>\n",
        "<br>\n",
        "\n",
        "### Access a chart specification that I like\n",
        "\n",
        "Suppose that you see a chart you like on the library page of my website. www.richarddavies.io/charts/library.\n",
        "\n",
        "Here is a spec that we might want to use:\n",
        "https://github.com/RDeconomist/RDeconomist.github.io/blob/main/charts/library/chartLine0.json.\n",
        "\n",
        "Lets first get that onto our machines, and edit it.\n"
      ],
      "metadata": {
        "id": "kjOaFDGMtAIW"
      }
    },
    {
      "cell_type": "code",
      "execution_count": null,
      "metadata": {
        "id": "mYjv4xnjssaP"
      },
      "outputs": [],
      "source": [
        "# 1. PREPARATORY STEPS - ACCESS PACKAGES WE NEED\n",
        "\n",
        "## // The \"requests\" package, for opening web sites and retrieving information:\n",
        "import requests\n",
        "\n",
        "## // The \"json\" package, for helping us make JSON easier to read:\n",
        "import json\n",
        "\n",
        "## /// Files.  This is part of Collab - allows you to upload and download files\n",
        "from google.colab import files\n",
        "\n"
      ]
    },
    {
      "cell_type": "code",
      "source": [
        "# 2.  ACCESSING AND EXAMINING MY CHART SPEC:\n",
        "\n",
        "# Define my target URL:\n",
        "url = \"https://raw.githubusercontent.com/RDeconomist/RDeconomist.github.io/main/charts/library/chartLine0.json\"\n",
        "\n",
        "# Get this\n",
        "chartSpec = requests.get(url).json()\n",
        "\n",
        "print(chartSpec)\n",
        "print('\\n')\n",
        "print(json.dumps(chartSpec, indent=2))"
      ],
      "metadata": {
        "id": "QsxXxWrL_0vJ"
      },
      "execution_count": null,
      "outputs": []
    },
    {
      "cell_type": "markdown",
      "source": [
        "<br>\n",
        "<br>\n",
        "\n",
        "### Editing the spec of a chart. Python Dictionaries\n",
        "\n",
        "Next, note that I can edit parts of a chart spec in Python. Following the steps that we have taken about, the variable we have is a Python \"dictionary\". Once dictionaries have been created we can edit them as we please. You can read about Python dictionaries [here](https://www.w3schools.com/python/python_dictionaries.asp)."
      ],
      "metadata": {
        "id": "bMblrItpwOSk"
      }
    },
    {
      "cell_type": "code",
      "source": [
        "## Print the width of the chart:\n",
        "print(chartSpec[\"width\"])\n",
        "\n",
        "## Change the width of the chart to 500\n",
        "chartSpec[\"width\"] = 1000\n",
        "\n",
        "## Print the title of the chart:\n",
        "print(chartSpec[\"title\"][\"text\"])\n",
        "\n",
        "## Change the title of the chart:\n",
        "chartSpec[\"title\"][\"text\"] = \"I like Data\"\n",
        "\n",
        "## Print out our new Spec:\n",
        "print(json.dumps(chartSpec, indent=2))"
      ],
      "metadata": {
        "id": "3dfadyUMvN9r"
      },
      "execution_count": null,
      "outputs": []
    },
    {
      "cell_type": "markdown",
      "source": [
        "<br>\n",
        "<br>\n",
        "\n",
        "### Loop + Dictionary\n",
        "\n",
        "We can combine a loop and a dictionary to make multiple different, but similar, dictionaries.\n"
      ],
      "metadata": {
        "id": "_Xg3y_PszFZL"
      }
    },
    {
      "cell_type": "code",
      "source": [
        "## Create a list of counties:\n",
        "counties = ['Monmouthshire', 'Ceredigion', 'Carmarthenshire']\n",
        "print(counties)\n",
        "print('\\n')\n",
        "\n",
        "## Create an example dictionary, using the dict() constructor:\n",
        "x = dict(place = \"Newport\", temperature = 5, country = \"Wales\", county = \"\")\n",
        "print(x)\n",
        "print('\\n')\n",
        "\n",
        "## Now loop over the counties, adding each one to the dictionary.\n",
        "for i in counties:\n",
        "  x['county'] = i\n",
        "  print(x)"
      ],
      "metadata": {
        "id": "FqipQ6bczWgQ"
      },
      "execution_count": null,
      "outputs": []
    },
    {
      "cell_type": "markdown",
      "source": [
        "<br>\n",
        "<br>\n",
        "\n",
        "### API + Loop + Dictionary\n",
        "\n",
        "Combining three of the tools we have learned. In the code below there are two main steps.\n",
        "1. Prepare for the loop, by defining terms and what we will loop over.\n",
        "2. Loop over the list of countries, creating an API link, inserting this into a chart spec, and then saving that as a JSON file on our machine."
      ],
      "metadata": {
        "id": "J4h7JCJm4Gmr"
      }
    },
    {
      "cell_type": "code",
      "source": [
        "### PREPARTING FOR THE LOOP:\n",
        "\n",
        "# // Get out base spec (as above)\n",
        "url = \"https://raw.githubusercontent.com/RDeconomist/RDeconomist.github.io/main/charts/library/chartLine0.json\"\n",
        "base_spec = requests.get(url).json()\n",
        "\n",
        "# // Define our base url with the {} placeholder for the country code.\n",
        "base_api = 'https://api.economicsobservatory.com/{}/unem'\n",
        "\n",
        "# // Set a base file Name:\n",
        "base_file = \"chartSpec_ECO_unem_{}.json\"\n",
        "\n",
        "# // Create a list of countries we want to get data for\n",
        "countries = ['gbr', 'usa', 'can', 'aus']\n",
        "\n",
        "# // Now since all of our work is going to be on unemployment, we need to change the base spec a bit:\n",
        "base_spec['title']['text'] = \"Unemployment\"\n",
        "base_spec['encoding']['x']['field'] = 'date'\n",
        "base_spec['encoding']['y']['field'] = 'value'\n",
        "\n",
        "# // Print out our new Spec:\n",
        "print(json.dumps(base_spec, indent=2))"
      ],
      "metadata": {
        "id": "cYmgZyTN4AO2"
      },
      "execution_count": null,
      "outputs": []
    },
    {
      "cell_type": "markdown",
      "source": [
        "With that preparation in place we can run our loop:"
      ],
      "metadata": {
        "id": "wiEgU1Y5AT2r"
      }
    },
    {
      "cell_type": "code",
      "source": [
        "### RUNNING OUR LOOP\n",
        "\n",
        "for i in countries:\n",
        "  ## Build the api that we want to use:\n",
        "  apiToUse = base_api.format(i)\n",
        "  print(apiToUse)\n",
        "\n",
        "  ## Now build the chart spec:\n",
        "  base_spec['data']['url'] = apiToUse\n",
        "  base_spec['title']['subtitle'] = i\n",
        "\n",
        "  ## Form the filename that we will use:\n",
        "  fileName = base_file.format(i)\n",
        "\n",
        "  # /// Save the file:\n",
        "  with open(fileName, 'w', encoding='utf-8') as f:\n",
        "      json.dump(base_spec, f, ensure_ascii=False, indent=4)\n",
        "\n",
        "  # /// Download the file to local machine:\n",
        "  files.download(fileName)"
      ],
      "metadata": {
        "id": "FwRBmOcbAS2r"
      },
      "execution_count": null,
      "outputs": []
    }
  ]
}