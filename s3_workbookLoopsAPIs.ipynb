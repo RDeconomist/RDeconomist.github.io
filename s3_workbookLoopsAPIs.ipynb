{
  "nbformat": 4,
  "nbformat_minor": 0,
  "metadata": {
    "colab": {
      "provenance": [],
      "include_colab_link": true
    },
    "kernelspec": {
      "name": "python3",
      "display_name": "Python 3"
    },
    "language_info": {
      "name": "python"
    }
  },
  "cells": [
    {
      "cell_type": "markdown",
      "metadata": {
        "id": "view-in-github",
        "colab_type": "text"
      },
      "source": [
        "<a href=\"https://colab.research.google.com/github/RDeconomist/RDeconomist.github.io/blob/main/s3_workbookLoopsAPIs.ipynb\" target=\"_parent\"><img src=\"https://colab.research.google.com/assets/colab-badge.svg\" alt=\"Open In Colab\"/></a>"
      ]
    },
    {
      "cell_type": "markdown",
      "source": [
        "**Richard Davies** Data Science Masterclass - 2024\n",
        "\n",
        "In this notebook we will learn useful tools allowing us to iterate (loops) over a list of data series in order to provide multiple requests to an API, batch downloading this data."
      ],
      "metadata": {
        "id": "fQu2dIu2ob5U"
      }
    },
    {
      "cell_type": "markdown",
      "source": [
        "<br>\n",
        "<br>\n",
        "\n",
        "### Lists\n",
        "\n",
        "Lists are a simple datatype. These are written with comma separated values (items) between square brackets. Just like with numbers or strings, we can assign these to a variable using =.\n",
        "\n",
        "In the code below we have a list of places. We define a variable \"locations\" and assign our list to this variable."
      ],
      "metadata": {
        "id": "yEo0xRKrLlaw"
      }
    },
    {
      "cell_type": "code",
      "source": [
        "locations = [\"Swansea\", \"Cardiff\", \"Newport\"]   # Creating a list of locations\n",
        "\n",
        "# We have a list of locations, let's print these out\n",
        "print(locations)"
      ],
      "metadata": {
        "id": "Yv26kvX8MK4Q"
      },
      "execution_count": null,
      "outputs": []
    },
    {
      "cell_type": "markdown",
      "source": [
        "<br>\n",
        "<br>\n",
        "\n",
        "### Printing items from a list\n",
        "\n",
        "If we want to retrieve individual items in the list, we use \"indexing\".\n",
        "\n",
        "**Note:** One rule to remember is that indexing starts at 0. So the array above has positions 0, 1 and 2. Asking for position 3--which would seem to be Newport--will throw an error."
      ],
      "metadata": {
        "id": "EbiaZD5EL5Hh"
      }
    },
    {
      "cell_type": "code",
      "source": [
        "print(locations[0])\n",
        "print(locations[2])\n",
        "print(locations[1])"
      ],
      "metadata": {
        "id": "iUAzn0NKM6kx"
      },
      "execution_count": null,
      "outputs": []
    },
    {
      "cell_type": "markdown",
      "source": [
        "<br>\n",
        "<br>\n",
        "\n",
        "### Loops\n",
        "\n",
        "Any time we have repetitive code like that above, we should consider a loop. This is not just to show off. Manually copying code like the above leads to errors, and it is time consuming. Loops make you more accurate, and more efficient.\n",
        "\n",
        "With the \"for\" loop we can execute a set of statements, once for each item in a list."
      ],
      "metadata": {
        "id": "hxPcB55pNAxV"
      }
    },
    {
      "cell_type": "code",
      "source": [
        "## Here is our first loop:\n",
        "\n",
        "locations = [\"Darlington\", \"London\", \"Newport\"]\n",
        "\n",
        "for i in locations:\n",
        "  print(i)"
      ],
      "metadata": {
        "id": "6jw1j049SAgK"
      },
      "execution_count": null,
      "outputs": []
    },
    {
      "cell_type": "markdown",
      "source": [
        "<br>\n",
        "<br>\n",
        "\n",
        "### The string format method {}\n",
        "\n",
        "To get the most out of loops, we will want to change strings in each iteration. To do this we can use something called format method. You can read more about this [here](https://www.w3schools.com/python/ref_string_format.asp)."
      ],
      "metadata": {
        "id": "0Q86xlmIVEb6"
      }
    },
    {
      "cell_type": "code",
      "source": [
        "# Take any string variable, and put a placeholder {} where we want to insert something:\n",
        "x = \"The best rugby team in the world is {}\"\n",
        "\n",
        "# Now we can use .format() to insert something into this place:\n",
        "x.format('Wales')"
      ],
      "metadata": {
        "id": "MGAuNZhEXzEn"
      },
      "execution_count": null,
      "outputs": []
    },
    {
      "cell_type": "markdown",
      "source": [
        "<br>\n",
        "<br>\n",
        "\n",
        "### A loop with the format method:\n",
        "We next combine the format method with a loop, in this case to print out a list of claims about football teams."
      ],
      "metadata": {
        "id": "3huwBgSpN6zf"
      }
    },
    {
      "cell_type": "code",
      "source": [
        "# First, define a sentence with the {} placeholder.\n",
        "text = \"The best team is {}\"\n",
        "\n",
        "# Next, define a list of team names.\n",
        "teams = ['Man Utd', 'AC Milan', 'Barcelona', 'PSG', 'Bayern', 'River Plate']\n",
        "\n",
        "# Finally, create a loop where we deal with the teams one by one.\n",
        "for i in teams:\n",
        "    top_team = text.format(i)    # Format `text` with team name\n",
        "    print(top_team)              # Print our formatted string\n"
      ],
      "metadata": {
        "id": "rLFzFp1lZIDx"
      },
      "execution_count": null,
      "outputs": []
    },
    {
      "cell_type": "markdown",
      "source": [
        "---"
      ],
      "metadata": {
        "id": "DKg2vT3ObIHp"
      }
    },
    {
      "cell_type": "markdown",
      "source": [
        "<br>\n",
        "<br>\n",
        "\n",
        "### Looping with an API: FRED\n",
        "\n",
        "With these buliding blocks in place, lets build something that may actually be useful. Imagine you cover the US Economy as an analyst. You make a weekly dashboard. This must take in 10 important series, each of them plotted with a line chart. The data will need to be re-downloaded each week, meaning that you are manually downloading 520 series per year, in order to keep your dashboard up to date. How can we bath process this, so that all downloads are done with one click? <br>\n",
        "\n",
        "<br>\n",
        "\n",
        "First, we need a list of FRED series we want to download. We'll create a list of the series codes we want data for.\n",
        "\n",
        "For example, FRED series for GDP and unemployment are: <br>\n",
        "https://fred.stlouisfed.org/series/GDP <br>\n",
        "https://fred.stlouisfed.org/series/UNRATE\n",
        "\n",
        " *Note: Since these are codes are made up of letters and numbers, they must be string type (i.e. surrounded by \" \" or ' ' quotes)*\n"
      ],
      "metadata": {
        "id": "WNP3NmHAo8aj"
      }
    },
    {
      "cell_type": "code",
      "source": [
        "# Write out my list of series:\n",
        "fred_series = ['GDP', 'PCEPI', 'CPIAUCSL', 'PAYEMS', 'DGS10', 'INDPRO', 'UNRATE']\n",
        "\n",
        "# // Set the base url:\n",
        "url_base = \"https://api.stlouisfed.org/fred/series/observations?series_id={}&api_key=22ee7a76e736e32f54f5df0a7171538d&file_type=json\"\n",
        "\n",
        "for i in fred_series:\n",
        "  # Print the series code we're about to download.\n",
        "  print(i)\n",
        "\n",
        "  # Build the URL for this iteration of the loop, and check what we are getting:\n",
        "  URL = url_base.format(i)\n",
        "  print(URL)\n",
        "\n",
        "  # Add some white space to our output. (This is purely so we can see what is happening below clearly)\n",
        "  print(\"\\n\")"
      ],
      "metadata": {
        "id": "1N4WWnGOsrox"
      },
      "execution_count": null,
      "outputs": []
    },
    {
      "cell_type": "markdown",
      "source": [
        "<br>\n",
        "<br>\n",
        "\n",
        "### Batch downloader: FRED.\n",
        "We are now ready to build out batch downloader. The code below\n",
        "\n",
        "1. Accesses some Python packages that we will need.\n",
        "2. Sets up (defines) the elements we will use over and over again in our loop.\n",
        "3. Runs the loop itself."
      ],
      "metadata": {
        "id": "OfIEAj9js56W"
      }
    },
    {
      "cell_type": "code",
      "source": [
        "# // FIRST BATCH DOWNLOADER\n",
        "\n",
        "\n",
        "# 1. PREPARATORY STEPS - ACCESS PACKAGES WE NEED\n",
        "\n",
        "## // The \"requests\" package, for opening web sites and retrieving information:\n",
        "import requests\n",
        "\n",
        "## // The \"json\" package, for helping us make JSON easier to read:\n",
        "import json\n",
        "\n",
        "## /// Files.  This is part of Collab - allows you to upload and download files\n",
        "from google.colab import files\n",
        "\n",
        "## ------\n",
        "\n",
        "# 2. SETTING UP THE ELEMENTS WE NEED IN OUR LOOP:\n",
        "\n",
        "# // Pick the series that I want:\n",
        "fred_series = ['GDP', 'PCEPI', 'CPIAUCSL', 'PAYEMS', 'DGS10', 'INDPRO', 'UNRATE']\n",
        "\n",
        "# // Set the base url:\n",
        "url_base = \"https://api.stlouisfed.org/fred/series/observations?series_id={}&api_key=22ee7a76e736e32f54f5df0a7171538d&file_type=json\"\n",
        "\n",
        "# // Set a base fileName:\n",
        "file_base = \"data_FRED-{}.json\"\n",
        "\n",
        "## ------\n",
        "\n",
        "# 3. USING THE ABOVE TO RUN A LOOP:\n",
        "\n",
        "# // Begin a loop, dealing with each series, one by one:\n",
        "for i in fred_series:\n",
        "\n",
        "    # // Print some text to make clear when iteration starts and ends:\n",
        "    # // This is not necessary but can be helpful, esp with long loops:\n",
        "    print(\"------Iteration Starts--------\")\n",
        "    print(i)\n",
        "\n",
        "    # // Build the URL for this iteration of the loop, print it to check what we are getting:\n",
        "    URL = url_base.format(i)\n",
        "    print(URL)\n",
        "\n",
        "    # // Request the html from the URL, and format as JSON:\n",
        "    data = requests.get(URL).json()\n",
        "\n",
        "    # // Build the filename. Print it to check what we are getting:\n",
        "    fileName = file_base.format(i)\n",
        "    print('Series we are downloading is', i)\n",
        "    print('Data saved to', fileName)\n",
        "\n",
        "    # /// Save the file:\n",
        "    with open(fileName, 'w', encoding='utf-8') as f:\n",
        "        json.dump(data, f, ensure_ascii=False, indent=4)\n",
        "\n",
        "    # /// Download the file to local machine:\n",
        "    files.download(fileName)\n",
        "\n",
        "    # // Add some white space to our output. (This is purely so we can see what is happening below clearly)\n",
        "    print(\"------Iteration Ends--------\\n\")"
      ],
      "metadata": {
        "id": "wPyxrJu4ARZp"
      },
      "execution_count": null,
      "outputs": []
    },
    {
      "cell_type": "markdown",
      "source": [
        "---"
      ],
      "metadata": {
        "id": "AHnOwdz5cg51"
      }
    }
  ]
}