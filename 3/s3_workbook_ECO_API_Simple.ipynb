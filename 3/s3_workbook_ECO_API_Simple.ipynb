{
  "cells": [
    {
      "cell_type": "markdown",
      "metadata": {
        "id": "view-in-github",
        "colab_type": "text"
      },
      "source": [
        "<a href=\"https://colab.research.google.com/github/RDeconomist/RDeconomist.github.io/blob/main/3/s3_workbook_ECO_API_Simple.ipynb\" target=\"_parent\"><img src=\"https://colab.research.google.com/assets/colab-badge.svg\" alt=\"Open In Colab\"/></a>"
      ]
    },
    {
      "cell_type": "markdown",
      "metadata": {
        "id": "pC-R7nWsVbBm"
      },
      "source": [
        "[![Binder](http://mybinder.org/badge_logo.svg)](https://mybinder.org/v2/gh/EconomicsObservatory/courses/HEAD?labpath=3%2Fs3_workbook_Loops_APIs.ipynb)\n",
        "\n",
        "<a href=\"https://colab.research.google.com/github/EconomicsObservatory/courses/blob/main/3/s3_workbook_ECO_API.ipynb\" target=\"_blank\"><img src=\"https://colab.research.google.com/assets/colab-badge.svg\" alt=\"Open In Colab\"/></a>"
      ]
    },
    {
      "cell_type": "markdown",
      "metadata": {
        "id": "b77eKBKFAf5W"
      },
      "source": [
        "**Richard Davies** Data Science Masterclass - 2024\n",
        "\n",
        "In this notebook we download a chart that we like and want to recreate, then looping over a list of countries to create multiple copies using different API-linked datasets."
      ]
    },
    {
      "cell_type": "markdown",
      "metadata": {
        "id": "ig9x6uozUulP"
      },
      "source": [
        "<br>\n",
        "<br>\n",
        "\n",
        "### Preparatory Steps\n",
        "\n",
        "There are a few add-ons to Python that we import to our session at the start. Run this to prepare your session for what follows."
      ]
    },
    {
      "cell_type": "code",
      "execution_count": null,
      "metadata": {
        "id": "mYjv4xnjssaP"
      },
      "outputs": [],
      "source": [
        "# 1. PREPARATORY STEPS - ACCESS PACKAGES WE NEED\n",
        "\n",
        "## // The \"requests\" package, for opening web sites and retrieving information:\n",
        "import requests\n",
        "\n",
        "## // The \"json\" package, for helping us: make JSON easier to read, converting to JSON from Python data (dictionaries).\n",
        "import json\n",
        "\n",
        "## /// Altair. This is a way of visualiting Vega charts in Colab\n",
        "%pip install altair   # Some packagaes need to be installed to the virtual machine before we can import them into our notebook. We can do this with '!pip install'\n",
        "import altair as alt"
      ]
    },
    {
      "cell_type": "markdown",
      "metadata": {
        "id": "kjOaFDGMtAIW"
      },
      "source": [
        "<br>\n",
        "<br>\n",
        "\n",
        "### Access a chart specification that I like\n",
        "\n",
        "Suppose that you see a chart you like on the library page of my website. https:///www.richarddavies.io/charts/library.\n",
        "\n",
        "Here is a spec that we might want to use:\n",
        "https://github.com/RDeconomist/RDeconomist.github.io/blob/main/charts/library/chartLine0.json.\n",
        "\n",
        "Lets first get that onto our machines, and edit it.\n"
      ]
    },
    {
      "cell_type": "code",
      "execution_count": null,
      "metadata": {
        "id": "QsxXxWrL_0vJ"
      },
      "outputs": [],
      "source": [
        "# 2.  ACCESSING AND EXAMINING MY CHART SPEC:\n",
        "\n",
        "## // Define my target URL (note that this is the RAW file)\n",
        "url = \"https://raw.githubusercontent.com/RDeconomist/RDeconomist.github.io/main/charts/library/chartLine0.json\"\n",
        "\n",
        "## // Get this\n",
        "chartSpec = requests.get(url).json()\n",
        "\n",
        "## // Now let's print it out, two different ways:\n",
        "\n",
        "## // First, just the data (no formatting)\n",
        "print(chartSpec)\n",
        "print('\\n')\n",
        "\n",
        "## // Convert to json [using json.dumps()] then print with formatting\n",
        "print(json.dumps(chartSpec, indent=4))"
      ]
    },
    {
      "cell_type": "markdown",
      "metadata": {
        "id": "bMblrItpwOSk"
      },
      "source": [
        "<br>\n",
        "<br>\n",
        "\n",
        "### Editing the specification of a chart. Python Dictionaries\n",
        "\n",
        "Next, note that I can edit parts of a chart spec in Python. Following the steps that we have taken about, the variable we have is a Python \"dictionary\". Once dictionaries have been created we can edit them as we please. You can read about Python dictionaries [here](https://www.w3schools.com/python/python_dictionaries.asp)."
      ]
    },
    {
      "cell_type": "code",
      "execution_count": null,
      "metadata": {
        "id": "3dfadyUMvN9r"
      },
      "outputs": [],
      "source": [
        "## Print the width of the chart:\n",
        "print(chartSpec[\"width\"])\n",
        "\n",
        "## Change the width of the chart to 500\n",
        "chartSpec[\"width\"] = 1000\n",
        "\n",
        "## Print the title of the chart:\n",
        "print(chartSpec[\"title\"][\"text\"])\n",
        "\n",
        "## Change the title of the chart:\n",
        "chartSpec[\"title\"][\"text\"] = \"I like Data\"\n",
        "\n",
        "## Print out our new Spec:\n",
        "print(json.dumps(chartSpec, indent=2))"
      ]
    },
    {
      "cell_type": "markdown",
      "metadata": {
        "id": "_Xg3y_PszFZL"
      },
      "source": [
        "<br>\n",
        "<br>\n",
        "\n",
        "### Loop + Dictionary\n",
        "\n",
        "Now we can combine a loop and a dictionary to make multiple different, but similar, dictionaries.\n",
        "\n",
        "*(To see why this is useful, recall from before that ALL we need to make a different chart is a different data source, and that this is just a value in a JSON object.)*\n"
      ]
    },
    {
      "cell_type": "code",
      "execution_count": null,
      "metadata": {
        "id": "CHEyHq8vVbBt"
      },
      "outputs": [],
      "source": [
        "## create a list of boroughs\n",
        "boroughs = [\"Westminster\", \"Camden\", \"Islington\"]\n",
        "print(boroughs)\n",
        "print('\\n')\n",
        "\n",
        "## Create an example dictionary, using the dict() constructor:\n",
        "x = dict(borough=\"X\", city = \"London\", temperature = 5, country = \"England\")\n",
        "print(x)\n",
        "print('\\n')\n",
        "\n",
        "\n",
        "## Now loop over the counties, printing each one.\n",
        "for i in boroughs:\n",
        "  print(i)\n",
        "\n",
        "\n",
        "## Now loop over the counties, printing each one, and calculating their length, and printing this out\n",
        "for i in boroughs:\n",
        "  print(i)\n",
        "  y = len(i)\n",
        "  print(y)\n",
        "\n",
        "## Now loop over the counties, printing each one.\n",
        "for i in boroughs:\n",
        "  x['borough'] = i\n",
        "  print(x)\n",
        "\n"
      ]
    },
    {
      "cell_type": "markdown",
      "metadata": {
        "id": "J4h7JCJm4Gmr"
      },
      "source": [
        "<br>\n",
        "<br>\n",
        "\n",
        "### API + Loop + Dictionary\n",
        "\n",
        "Combining three of the tools we have learned. In the code below there are two main steps.\n",
        "1. Prepare for the loop, by creatings a kind of \"shell\" dictionary (a simi complete chart spec) that needs some more information (the data source).\n",
        "2. Loop over the list of countries, creating an API link, inserting this into a chart spec, and visualise this."
      ]
    },
    {
      "cell_type": "code",
      "execution_count": null,
      "metadata": {
        "id": "cYmgZyTN4AO2"
      },
      "outputs": [],
      "source": [
        "### PREPARING OUR BASE SPEC\n",
        "\n",
        "# // Get out base spec (as above)\n",
        "url = \"https://raw.githubusercontent.com/RDeconomist/RDeconomist.github.io/main/charts/library/chartLine0.json\"\n",
        "base_spec = requests.get(url).json()\n",
        "\n",
        "# // Now since all of our work is going to be on unemployment, we need to change the base spec:\n",
        "base_spec['title']['text'] = \"Unemployment\"\n",
        "base_spec['encoding']['x']['field'] = 'date'\n",
        "base_spec['encoding']['y']['field'] = 'value'\n",
        "base_spec['data']['url'] = 'XYZ'\n",
        "\n",
        "# // Print out our new Spec:\n",
        "print(json.dumps(base_spec, indent=2))\n"
      ]
    },
    {
      "cell_type": "markdown",
      "metadata": {
        "id": "wiEgU1Y5AT2r"
      },
      "source": [
        "With that preparation in place we can run our loop:"
      ]
    },
    {
      "cell_type": "code",
      "execution_count": null,
      "metadata": {
        "id": "FwRBmOcbAS2r"
      },
      "outputs": [],
      "source": [
        "### RUNNING OUR LOOP\n",
        "\n",
        "# // Define our base url with the {} placeholder for the country code.\n",
        "base_api = 'https://api.economicsobservatory.com/{}/unem?vega'\n",
        "\n",
        "# // Create a list of countries we want to get data for:\n",
        "countries = ['gbr', 'usa', 'can', 'egy']\n",
        "\n",
        "for i in countries:\n",
        "  ## Build the api that we want to use:\n",
        "  apiToUse = base_api.format(i)\n",
        "  # print(apiToUse)\n",
        "\n",
        "  ## Now build the chart spec:\n",
        "  base_spec['data']['url'] = apiToUse\n",
        "  base_spec['title']['subtitle'] = i\n",
        "\n",
        "  # /// Turn the spec into JSON\n",
        "  specJSON = json.dumps(base_spec)\n",
        "\n",
        "  # /// Turn the json into an Altair chart and display it:\n",
        "  new_chart = alt.Chart.from_json(specJSON)\n",
        "  new_chart.display()\n"
      ]
    },
    {
      "cell_type": "code",
      "execution_count": null,
      "metadata": {
        "id": "10avxOPPVbBt"
      },
      "outputs": [],
      "source": []
    }
  ],
  "metadata": {
    "colab": {
      "provenance": [],
      "include_colab_link": true
    },
    "kernelspec": {
      "display_name": "Python 3",
      "name": "python3"
    },
    "language_info": {
      "codemirror_mode": {
        "name": "ipython",
        "version": 3
      },
      "file_extension": ".py",
      "mimetype": "text/x-python",
      "name": "python",
      "nbconvert_exporter": "python",
      "pygments_lexer": "ipython3",
      "version": "3.11.4"
    }
  },
  "nbformat": 4,
  "nbformat_minor": 0
}