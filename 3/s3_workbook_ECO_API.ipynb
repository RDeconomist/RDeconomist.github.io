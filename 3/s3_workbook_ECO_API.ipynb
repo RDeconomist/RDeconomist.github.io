{
  "cells": [
    {
      "cell_type": "markdown",
      "metadata": {
        "id": "view-in-github",
        "colab_type": "text"
      },
      "source": [
        "<a href=\"https://colab.research.google.com/github/RDeconomist/RDeconomist.github.io/blob/main/3/s3_workbook_ECO_API.ipynb\" target=\"_parent\"><img src=\"https://colab.research.google.com/assets/colab-badge.svg\" alt=\"Open In Colab\"/></a>"
      ]
    },
    {
      "cell_type": "markdown",
      "metadata": {
        "id": "pC-R7nWsVbBm"
      },
      "source": [
        "[![Binder](http://mybinder.org/badge_logo.svg)](https://mybinder.org/v2/gh/EconomicsObservatory/courses/HEAD?labpath=3%2Fs3_workbook_Loops_APIs.ipynb)\n",
        "\n",
        "<a href=\"https://colab.research.google.com/github/EconomicsObservatory/courses/blob/main/3/s3_workbook_ECO_API.ipynb\" target=\"_blank\"><img src=\"https://colab.research.google.com/assets/colab-badge.svg\" alt=\"Open In Colab\"/></a>"
      ]
    },
    {
      "cell_type": "markdown",
      "metadata": {
        "id": "b77eKBKFAf5W"
      },
      "source": [
        "**Richard Davies** Data Science Masterclass - 2024\n",
        "\n",
        "In this notebook we download a chart that we like and want to recreate, then looping over a list of countries to create multiple copies using different API-linked datasets."
      ]
    },
    {
      "cell_type": "markdown",
      "metadata": {
        "id": "ig9x6uozUulP"
      },
      "source": [
        "<br>\n",
        "<br>\n",
        "\n",
        "### Preparatory Steps\n",
        "\n",
        "There are a few add-ons to Python that we import to our session at the start. Run this to prepare your session for what follows."
      ]
    },
    {
      "cell_type": "code",
      "execution_count": 2,
      "metadata": {
        "id": "mYjv4xnjssaP",
        "outputId": "1c4ed98b-1450-4685-8e4a-fb574a6f4bb8",
        "colab": {
          "base_uri": "https://localhost:8080/"
        }
      },
      "outputs": [
        {
          "output_type": "stream",
          "name": "stdout",
          "text": [
            "Requirement already satisfied: altair in /usr/local/lib/python3.10/dist-packages (4.2.2)\n",
            "Requirement already satisfied: entrypoints in /usr/local/lib/python3.10/dist-packages (from altair) (0.4)\n",
            "Requirement already satisfied: jinja2 in /usr/local/lib/python3.10/dist-packages (from altair) (3.1.3)\n",
            "Requirement already satisfied: jsonschema>=3.0 in /usr/local/lib/python3.10/dist-packages (from altair) (4.19.2)\n",
            "Requirement already satisfied: numpy in /usr/local/lib/python3.10/dist-packages (from altair) (1.25.2)\n",
            "Requirement already satisfied: pandas>=0.18 in /usr/local/lib/python3.10/dist-packages (from altair) (1.5.3)\n",
            "Requirement already satisfied: toolz in /usr/local/lib/python3.10/dist-packages (from altair) (0.12.1)\n",
            "Requirement already satisfied: attrs>=22.2.0 in /usr/local/lib/python3.10/dist-packages (from jsonschema>=3.0->altair) (23.2.0)\n",
            "Requirement already satisfied: jsonschema-specifications>=2023.03.6 in /usr/local/lib/python3.10/dist-packages (from jsonschema>=3.0->altair) (2023.12.1)\n",
            "Requirement already satisfied: referencing>=0.28.4 in /usr/local/lib/python3.10/dist-packages (from jsonschema>=3.0->altair) (0.33.0)\n",
            "Requirement already satisfied: rpds-py>=0.7.1 in /usr/local/lib/python3.10/dist-packages (from jsonschema>=3.0->altair) (0.18.0)\n",
            "Requirement already satisfied: python-dateutil>=2.8.1 in /usr/local/lib/python3.10/dist-packages (from pandas>=0.18->altair) (2.8.2)\n",
            "Requirement already satisfied: pytz>=2020.1 in /usr/local/lib/python3.10/dist-packages (from pandas>=0.18->altair) (2023.4)\n",
            "Requirement already satisfied: MarkupSafe>=2.0 in /usr/local/lib/python3.10/dist-packages (from jinja2->altair) (2.1.5)\n",
            "Requirement already satisfied: six>=1.5 in /usr/local/lib/python3.10/dist-packages (from python-dateutil>=2.8.1->pandas>=0.18->altair) (1.16.0)\n"
          ]
        }
      ],
      "source": [
        "# 1. PREPARATORY STEPS - ACCESS PACKAGES WE NEED\n",
        "\n",
        "## // The \"requests\" package, for opening web sites and retrieving information:\n",
        "import requests\n",
        "\n",
        "## // The \"json\" package, for helping us: make JSON easier to read, converting to JSON from Python data (dictionaries).\n",
        "import json\n",
        "\n",
        "## /// Altair. This is a way of visualiting Vega charts in Colab\n",
        "%pip install altair   # Some packagaes need to be installed to the virtual machine before we can import them into our notebook. We can do this with '!pip install'\n",
        "import altair as alt"
      ]
    },
    {
      "cell_type": "markdown",
      "metadata": {
        "id": "kjOaFDGMtAIW"
      },
      "source": [
        "<br>\n",
        "<br>\n",
        "\n",
        "### Access a chart specification that I like\n",
        "\n",
        "Suppose that you see a chart you like on the library page of my website. https:///www.richarddavies.io/charts/library.\n",
        "\n",
        "Here is a spec that we might want to use:\n",
        "https://github.com/RDeconomist/RDeconomist.github.io/blob/main/charts/library/chartLine0.json.\n",
        "\n",
        "Lets first get that onto our machines, and edit it.\n"
      ]
    },
    {
      "cell_type": "code",
      "execution_count": 3,
      "metadata": {
        "id": "QsxXxWrL_0vJ",
        "outputId": "d6300c10-8255-4e18-e7cd-d8e4910d2ca1",
        "colab": {
          "base_uri": "https://localhost:8080/"
        }
      },
      "outputs": [
        {
          "output_type": "stream",
          "name": "stdout",
          "text": [
            "{'$schema': 'https://vega.github.io/schema/vega-lite/v5.json', 'data': {'url': 'https://raw.githubusercontent.com/RDeconomist/RDeconomist.github.io/main/charts/library/ukProdOutPerWork.csv'}, 'title': {'text': 'UK Productivity 1960-2023'}, 'width': 300, 'height': 300, 'mark': {'type': 'line', 'color': 'red'}, 'encoding': {'x': {'field': 'Year', 'type': 'temporal'}, 'y': {'field': 'outputPerWorker', 'type': 'quantitative'}}}\n",
            "\n",
            "\n",
            "{\n",
            "    \"$schema\": \"https://vega.github.io/schema/vega-lite/v5.json\",\n",
            "    \"data\": {\n",
            "        \"url\": \"https://raw.githubusercontent.com/RDeconomist/RDeconomist.github.io/main/charts/library/ukProdOutPerWork.csv\"\n",
            "    },\n",
            "    \"title\": {\n",
            "        \"text\": \"UK Productivity 1960-2023\"\n",
            "    },\n",
            "    \"width\": 300,\n",
            "    \"height\": 300,\n",
            "    \"mark\": {\n",
            "        \"type\": \"line\",\n",
            "        \"color\": \"red\"\n",
            "    },\n",
            "    \"encoding\": {\n",
            "        \"x\": {\n",
            "            \"field\": \"Year\",\n",
            "            \"type\": \"temporal\"\n",
            "        },\n",
            "        \"y\": {\n",
            "            \"field\": \"outputPerWorker\",\n",
            "            \"type\": \"quantitative\"\n",
            "        }\n",
            "    }\n",
            "}\n"
          ]
        }
      ],
      "source": [
        "# 2.  ACCESSING AND EXAMINING MY CHART SPEC:\n",
        "\n",
        "## // Define my target URL (note that this is the RAW file)\n",
        "url = \"https://raw.githubusercontent.com/RDeconomist/RDeconomist.github.io/main/charts/library/chartLine0.json\"\n",
        "\n",
        "## // Get this\n",
        "chartSpec = requests.get(url).json()\n",
        "\n",
        "## // Now let's print it out, two different ways:\n",
        "\n",
        "## // First, just the data (no formatting)\n",
        "print(chartSpec)\n",
        "print('\\n')\n",
        "\n",
        "## // Convert to json [using json.dumps()] then print with formatting\n",
        "print(json.dumps(chartSpec, indent=4))"
      ]
    },
    {
      "cell_type": "markdown",
      "metadata": {
        "id": "bMblrItpwOSk"
      },
      "source": [
        "<br>\n",
        "<br>\n",
        "\n",
        "### Editing the specification of a chart. Python Dictionaries\n",
        "\n",
        "Next, note that I can edit parts of a chart spec in Python. Following the steps that we have taken about, the variable we have is a Python \"dictionary\". Once dictionaries have been created we can edit them as we please. You can read about Python dictionaries [here](https://www.w3schools.com/python/python_dictionaries.asp)."
      ]
    },
    {
      "cell_type": "code",
      "execution_count": null,
      "metadata": {
        "id": "3dfadyUMvN9r",
        "outputId": "51d111d5-9962-4c35-9f6f-2e99305a62a4"
      },
      "outputs": [
        {
          "name": "stdout",
          "output_type": "stream",
          "text": [
            "300\n",
            "UK Productivity 1960-2023\n",
            "{\n",
            "  \"$schema\": \"https://vega.github.io/schema/vega-lite/v5.json\",\n",
            "  \"data\": {\n",
            "    \"url\": \"https://raw.githubusercontent.com/RDeconomist/RDeconomist.github.io/main/charts/library/ukProdOutPerWork.csv\"\n",
            "  },\n",
            "  \"title\": {\n",
            "    \"text\": \"I like Data\"\n",
            "  },\n",
            "  \"width\": 1000,\n",
            "  \"height\": 300,\n",
            "  \"mark\": {\n",
            "    \"type\": \"line\",\n",
            "    \"color\": \"red\"\n",
            "  },\n",
            "  \"encoding\": {\n",
            "    \"x\": {\n",
            "      \"field\": \"Year\",\n",
            "      \"type\": \"temporal\"\n",
            "    },\n",
            "    \"y\": {\n",
            "      \"field\": \"outputPerWorker\",\n",
            "      \"type\": \"quantitative\"\n",
            "    }\n",
            "  }\n",
            "}\n"
          ]
        }
      ],
      "source": [
        "## Print the width of the chart:\n",
        "print(chartSpec[\"width\"])\n",
        "\n",
        "## Change the width of the chart to 500\n",
        "chartSpec[\"width\"] = 1000\n",
        "\n",
        "## Print the title of the chart:\n",
        "print(chartSpec[\"title\"][\"text\"])\n",
        "\n",
        "## Change the title of the chart:\n",
        "chartSpec[\"title\"][\"text\"] = \"I like Data\"\n",
        "\n",
        "## Print out our new Spec:\n",
        "print(json.dumps(chartSpec, indent=2))"
      ]
    },
    {
      "cell_type": "markdown",
      "metadata": {
        "id": "_Xg3y_PszFZL"
      },
      "source": [
        "<br>\n",
        "<br>\n",
        "\n",
        "### Loop + Dictionary\n",
        "\n",
        "Now we can combine a loop and a dictionary to make multiple different, but similar, dictionaries.\n",
        "\n",
        "*(To see why this is useful, recall from before that ALL we need to make a different chart is a different data source, and that this is just a value in a JSON object.)*\n"
      ]
    },
    {
      "cell_type": "code",
      "execution_count": null,
      "metadata": {
        "id": "CHEyHq8vVbBt"
      },
      "outputs": [],
      "source": [
        "## create a list of boroughs\n",
        "boroughs = [\"Westminster\", \"Camden\", \"Islington\"]\n",
        "print(boroughs)\n",
        "print('\\n')\n",
        "\n",
        "## Create an example dictionary, using the dict() constructor:\n",
        "x = dict(borough=\"X\", city = \"London\", temperature = 5, country = \"England\")\n",
        "print(x)\n",
        "print('\\n')\n",
        "\n",
        "\n",
        "## Now loop over the counties, printing each one.\n",
        "for i in boroughs:\n",
        "  print(i)\n",
        "\n",
        "\n",
        "## Now loop over the counties, printing each one, and calculating their length, and printing this out\n",
        "for i in boroughs:\n",
        "  print(i)\n",
        "  y = len(i)\n",
        "  print(y)\n",
        "\n",
        "## Now loop over the counties, printing each one.\n",
        "for i in boroughs:\n",
        "  x['borough'] = i\n",
        "  print(x)\n",
        "\n"
      ]
    },
    {
      "cell_type": "markdown",
      "metadata": {
        "id": "J4h7JCJm4Gmr"
      },
      "source": [
        "<br>\n",
        "<br>\n",
        "\n",
        "### API + Loop + Dictionary\n",
        "\n",
        "Combining three of the tools we have learned. In the code below there are two main steps.\n",
        "1. Prepare for the loop, by defining terms and what we will loop over.\n",
        "2. Loop over the list of countries, creating an API link, inserting this into a chart spec, and then saving that as a JSON file on our machine."
      ]
    },
    {
      "cell_type": "code",
      "execution_count": 9,
      "metadata": {
        "id": "cYmgZyTN4AO2",
        "outputId": "8f6c7c7c-2347-4545-b959-d1aeadd32536",
        "colab": {
          "base_uri": "https://localhost:8080/"
        }
      },
      "outputs": [
        {
          "output_type": "stream",
          "name": "stdout",
          "text": [
            "{\n",
            "  \"$schema\": \"https://vega.github.io/schema/vega-lite/v5.json\",\n",
            "  \"data\": {\n",
            "    \"url\": \"XYZ\"\n",
            "  },\n",
            "  \"title\": {\n",
            "    \"text\": \"Unemployment\"\n",
            "  },\n",
            "  \"width\": 300,\n",
            "  \"height\": 300,\n",
            "  \"mark\": {\n",
            "    \"type\": \"line\",\n",
            "    \"color\": \"red\"\n",
            "  },\n",
            "  \"encoding\": {\n",
            "    \"x\": {\n",
            "      \"field\": \"date\",\n",
            "      \"type\": \"temporal\"\n",
            "    },\n",
            "    \"y\": {\n",
            "      \"field\": \"value\",\n",
            "      \"type\": \"quantitative\"\n",
            "    }\n",
            "  }\n",
            "}\n"
          ]
        }
      ],
      "source": [
        "### PREPARING OUR BASE SPEC\n",
        "\n",
        "# // Get out base spec (as above)\n",
        "url = \"https://raw.githubusercontent.com/RDeconomist/RDeconomist.github.io/main/charts/library/chartLine0.json\"\n",
        "base_spec = requests.get(url).json()\n",
        "\n",
        "# // Now since all of our work is going to be on unemployment, we need to change the base spec:\n",
        "base_spec['title']['text'] = \"Unemployment\"\n",
        "base_spec['encoding']['x']['field'] = 'date'\n",
        "base_spec['encoding']['y']['field'] = 'value'\n",
        "base_spec['data']['url'] = 'XYZ'\n",
        "\n",
        "# // Print out our new Spec:\n",
        "print(json.dumps(base_spec, indent=2))\n"
      ]
    },
    {
      "cell_type": "markdown",
      "metadata": {
        "id": "wiEgU1Y5AT2r"
      },
      "source": [
        "With that preparation in place we can run our loop:"
      ]
    },
    {
      "cell_type": "code",
      "execution_count": 10,
      "metadata": {
        "id": "FwRBmOcbAS2r",
        "outputId": "da146760-1309-470d-c7e4-4c7b0b9f2b9f",
        "colab": {
          "base_uri": "https://localhost:8080/",
          "height": 1000
        }
      },
      "outputs": [
        {
          "output_type": "display_data",
          "data": {
            "text/html": [
              "\n",
              "<div id=\"altair-viz-4c574666922740d89050455b1045f1b5\"></div>\n",
              "<script type=\"text/javascript\">\n",
              "  var VEGA_DEBUG = (typeof VEGA_DEBUG == \"undefined\") ? {} : VEGA_DEBUG;\n",
              "  (function(spec, embedOpt){\n",
              "    let outputDiv = document.currentScript.previousElementSibling;\n",
              "    if (outputDiv.id !== \"altair-viz-4c574666922740d89050455b1045f1b5\") {\n",
              "      outputDiv = document.getElementById(\"altair-viz-4c574666922740d89050455b1045f1b5\");\n",
              "    }\n",
              "    const paths = {\n",
              "      \"vega\": \"https://cdn.jsdelivr.net/npm//vega@5?noext\",\n",
              "      \"vega-lib\": \"https://cdn.jsdelivr.net/npm//vega-lib?noext\",\n",
              "      \"vega-lite\": \"https://cdn.jsdelivr.net/npm//vega-lite@4.17.0?noext\",\n",
              "      \"vega-embed\": \"https://cdn.jsdelivr.net/npm//vega-embed@6?noext\",\n",
              "    };\n",
              "\n",
              "    function maybeLoadScript(lib, version) {\n",
              "      var key = `${lib.replace(\"-\", \"\")}_version`;\n",
              "      return (VEGA_DEBUG[key] == version) ?\n",
              "        Promise.resolve(paths[lib]) :\n",
              "        new Promise(function(resolve, reject) {\n",
              "          var s = document.createElement('script');\n",
              "          document.getElementsByTagName(\"head\")[0].appendChild(s);\n",
              "          s.async = true;\n",
              "          s.onload = () => {\n",
              "            VEGA_DEBUG[key] = version;\n",
              "            return resolve(paths[lib]);\n",
              "          };\n",
              "          s.onerror = () => reject(`Error loading script: ${paths[lib]}`);\n",
              "          s.src = paths[lib];\n",
              "        });\n",
              "    }\n",
              "\n",
              "    function showError(err) {\n",
              "      outputDiv.innerHTML = `<div class=\"error\" style=\"color:red;\">${err}</div>`;\n",
              "      throw err;\n",
              "    }\n",
              "\n",
              "    function displayChart(vegaEmbed) {\n",
              "      vegaEmbed(outputDiv, spec, embedOpt)\n",
              "        .catch(err => showError(`Javascript Error: ${err.message}<br>This usually means there's a typo in your chart specification. See the javascript console for the full traceback.`));\n",
              "    }\n",
              "\n",
              "    if(typeof define === \"function\" && define.amd) {\n",
              "      requirejs.config({paths});\n",
              "      require([\"vega-embed\"], displayChart, err => showError(`Error loading script: ${err.message}`));\n",
              "    } else {\n",
              "      maybeLoadScript(\"vega\", \"5\")\n",
              "        .then(() => maybeLoadScript(\"vega-lite\", \"4.17.0\"))\n",
              "        .then(() => maybeLoadScript(\"vega-embed\", \"6\"))\n",
              "        .catch(showError)\n",
              "        .then(() => displayChart(vegaEmbed));\n",
              "    }\n",
              "  })({\"config\": {\"view\": {\"continuousWidth\": 400, \"continuousHeight\": 300}}, \"data\": {\"url\": \"https://api.economicsobservatory.com/gbr/unem?vega\"}, \"mark\": {\"type\": \"line\", \"color\": \"red\"}, \"encoding\": {\"x\": {\"field\": \"date\", \"type\": \"temporal\"}, \"y\": {\"field\": \"value\", \"type\": \"quantitative\"}}, \"height\": 300, \"title\": {\"text\": \"Unemployment\", \"subtitle\": \"gbr\"}, \"width\": 300, \"$schema\": \"https://vega.github.io/schema/vega-lite/v5.json\"}, {\"mode\": \"vega-lite\"});\n",
              "</script>"
            ],
            "text/plain": [
              "alt.Chart(...)"
            ]
          },
          "metadata": {}
        },
        {
          "output_type": "display_data",
          "data": {
            "text/html": [
              "\n",
              "<div id=\"altair-viz-0adf68d6968845e9b2ff413ecaac049b\"></div>\n",
              "<script type=\"text/javascript\">\n",
              "  var VEGA_DEBUG = (typeof VEGA_DEBUG == \"undefined\") ? {} : VEGA_DEBUG;\n",
              "  (function(spec, embedOpt){\n",
              "    let outputDiv = document.currentScript.previousElementSibling;\n",
              "    if (outputDiv.id !== \"altair-viz-0adf68d6968845e9b2ff413ecaac049b\") {\n",
              "      outputDiv = document.getElementById(\"altair-viz-0adf68d6968845e9b2ff413ecaac049b\");\n",
              "    }\n",
              "    const paths = {\n",
              "      \"vega\": \"https://cdn.jsdelivr.net/npm//vega@5?noext\",\n",
              "      \"vega-lib\": \"https://cdn.jsdelivr.net/npm//vega-lib?noext\",\n",
              "      \"vega-lite\": \"https://cdn.jsdelivr.net/npm//vega-lite@4.17.0?noext\",\n",
              "      \"vega-embed\": \"https://cdn.jsdelivr.net/npm//vega-embed@6?noext\",\n",
              "    };\n",
              "\n",
              "    function maybeLoadScript(lib, version) {\n",
              "      var key = `${lib.replace(\"-\", \"\")}_version`;\n",
              "      return (VEGA_DEBUG[key] == version) ?\n",
              "        Promise.resolve(paths[lib]) :\n",
              "        new Promise(function(resolve, reject) {\n",
              "          var s = document.createElement('script');\n",
              "          document.getElementsByTagName(\"head\")[0].appendChild(s);\n",
              "          s.async = true;\n",
              "          s.onload = () => {\n",
              "            VEGA_DEBUG[key] = version;\n",
              "            return resolve(paths[lib]);\n",
              "          };\n",
              "          s.onerror = () => reject(`Error loading script: ${paths[lib]}`);\n",
              "          s.src = paths[lib];\n",
              "        });\n",
              "    }\n",
              "\n",
              "    function showError(err) {\n",
              "      outputDiv.innerHTML = `<div class=\"error\" style=\"color:red;\">${err}</div>`;\n",
              "      throw err;\n",
              "    }\n",
              "\n",
              "    function displayChart(vegaEmbed) {\n",
              "      vegaEmbed(outputDiv, spec, embedOpt)\n",
              "        .catch(err => showError(`Javascript Error: ${err.message}<br>This usually means there's a typo in your chart specification. See the javascript console for the full traceback.`));\n",
              "    }\n",
              "\n",
              "    if(typeof define === \"function\" && define.amd) {\n",
              "      requirejs.config({paths});\n",
              "      require([\"vega-embed\"], displayChart, err => showError(`Error loading script: ${err.message}`));\n",
              "    } else {\n",
              "      maybeLoadScript(\"vega\", \"5\")\n",
              "        .then(() => maybeLoadScript(\"vega-lite\", \"4.17.0\"))\n",
              "        .then(() => maybeLoadScript(\"vega-embed\", \"6\"))\n",
              "        .catch(showError)\n",
              "        .then(() => displayChart(vegaEmbed));\n",
              "    }\n",
              "  })({\"config\": {\"view\": {\"continuousWidth\": 400, \"continuousHeight\": 300}}, \"data\": {\"url\": \"https://api.economicsobservatory.com/usa/unem?vega\"}, \"mark\": {\"type\": \"line\", \"color\": \"red\"}, \"encoding\": {\"x\": {\"field\": \"date\", \"type\": \"temporal\"}, \"y\": {\"field\": \"value\", \"type\": \"quantitative\"}}, \"height\": 300, \"title\": {\"text\": \"Unemployment\", \"subtitle\": \"usa\"}, \"width\": 300, \"$schema\": \"https://vega.github.io/schema/vega-lite/v5.json\"}, {\"mode\": \"vega-lite\"});\n",
              "</script>"
            ],
            "text/plain": [
              "alt.Chart(...)"
            ]
          },
          "metadata": {}
        },
        {
          "output_type": "display_data",
          "data": {
            "text/html": [
              "\n",
              "<div id=\"altair-viz-7c95246786654fa9b011af0d8fe8634e\"></div>\n",
              "<script type=\"text/javascript\">\n",
              "  var VEGA_DEBUG = (typeof VEGA_DEBUG == \"undefined\") ? {} : VEGA_DEBUG;\n",
              "  (function(spec, embedOpt){\n",
              "    let outputDiv = document.currentScript.previousElementSibling;\n",
              "    if (outputDiv.id !== \"altair-viz-7c95246786654fa9b011af0d8fe8634e\") {\n",
              "      outputDiv = document.getElementById(\"altair-viz-7c95246786654fa9b011af0d8fe8634e\");\n",
              "    }\n",
              "    const paths = {\n",
              "      \"vega\": \"https://cdn.jsdelivr.net/npm//vega@5?noext\",\n",
              "      \"vega-lib\": \"https://cdn.jsdelivr.net/npm//vega-lib?noext\",\n",
              "      \"vega-lite\": \"https://cdn.jsdelivr.net/npm//vega-lite@4.17.0?noext\",\n",
              "      \"vega-embed\": \"https://cdn.jsdelivr.net/npm//vega-embed@6?noext\",\n",
              "    };\n",
              "\n",
              "    function maybeLoadScript(lib, version) {\n",
              "      var key = `${lib.replace(\"-\", \"\")}_version`;\n",
              "      return (VEGA_DEBUG[key] == version) ?\n",
              "        Promise.resolve(paths[lib]) :\n",
              "        new Promise(function(resolve, reject) {\n",
              "          var s = document.createElement('script');\n",
              "          document.getElementsByTagName(\"head\")[0].appendChild(s);\n",
              "          s.async = true;\n",
              "          s.onload = () => {\n",
              "            VEGA_DEBUG[key] = version;\n",
              "            return resolve(paths[lib]);\n",
              "          };\n",
              "          s.onerror = () => reject(`Error loading script: ${paths[lib]}`);\n",
              "          s.src = paths[lib];\n",
              "        });\n",
              "    }\n",
              "\n",
              "    function showError(err) {\n",
              "      outputDiv.innerHTML = `<div class=\"error\" style=\"color:red;\">${err}</div>`;\n",
              "      throw err;\n",
              "    }\n",
              "\n",
              "    function displayChart(vegaEmbed) {\n",
              "      vegaEmbed(outputDiv, spec, embedOpt)\n",
              "        .catch(err => showError(`Javascript Error: ${err.message}<br>This usually means there's a typo in your chart specification. See the javascript console for the full traceback.`));\n",
              "    }\n",
              "\n",
              "    if(typeof define === \"function\" && define.amd) {\n",
              "      requirejs.config({paths});\n",
              "      require([\"vega-embed\"], displayChart, err => showError(`Error loading script: ${err.message}`));\n",
              "    } else {\n",
              "      maybeLoadScript(\"vega\", \"5\")\n",
              "        .then(() => maybeLoadScript(\"vega-lite\", \"4.17.0\"))\n",
              "        .then(() => maybeLoadScript(\"vega-embed\", \"6\"))\n",
              "        .catch(showError)\n",
              "        .then(() => displayChart(vegaEmbed));\n",
              "    }\n",
              "  })({\"config\": {\"view\": {\"continuousWidth\": 400, \"continuousHeight\": 300}}, \"data\": {\"url\": \"https://api.economicsobservatory.com/can/unem?vega\"}, \"mark\": {\"type\": \"line\", \"color\": \"red\"}, \"encoding\": {\"x\": {\"field\": \"date\", \"type\": \"temporal\"}, \"y\": {\"field\": \"value\", \"type\": \"quantitative\"}}, \"height\": 300, \"title\": {\"text\": \"Unemployment\", \"subtitle\": \"can\"}, \"width\": 300, \"$schema\": \"https://vega.github.io/schema/vega-lite/v5.json\"}, {\"mode\": \"vega-lite\"});\n",
              "</script>"
            ],
            "text/plain": [
              "alt.Chart(...)"
            ]
          },
          "metadata": {}
        },
        {
          "output_type": "display_data",
          "data": {
            "text/html": [
              "\n",
              "<div id=\"altair-viz-d86c9112f04348ee88ff0a3450111618\"></div>\n",
              "<script type=\"text/javascript\">\n",
              "  var VEGA_DEBUG = (typeof VEGA_DEBUG == \"undefined\") ? {} : VEGA_DEBUG;\n",
              "  (function(spec, embedOpt){\n",
              "    let outputDiv = document.currentScript.previousElementSibling;\n",
              "    if (outputDiv.id !== \"altair-viz-d86c9112f04348ee88ff0a3450111618\") {\n",
              "      outputDiv = document.getElementById(\"altair-viz-d86c9112f04348ee88ff0a3450111618\");\n",
              "    }\n",
              "    const paths = {\n",
              "      \"vega\": \"https://cdn.jsdelivr.net/npm//vega@5?noext\",\n",
              "      \"vega-lib\": \"https://cdn.jsdelivr.net/npm//vega-lib?noext\",\n",
              "      \"vega-lite\": \"https://cdn.jsdelivr.net/npm//vega-lite@4.17.0?noext\",\n",
              "      \"vega-embed\": \"https://cdn.jsdelivr.net/npm//vega-embed@6?noext\",\n",
              "    };\n",
              "\n",
              "    function maybeLoadScript(lib, version) {\n",
              "      var key = `${lib.replace(\"-\", \"\")}_version`;\n",
              "      return (VEGA_DEBUG[key] == version) ?\n",
              "        Promise.resolve(paths[lib]) :\n",
              "        new Promise(function(resolve, reject) {\n",
              "          var s = document.createElement('script');\n",
              "          document.getElementsByTagName(\"head\")[0].appendChild(s);\n",
              "          s.async = true;\n",
              "          s.onload = () => {\n",
              "            VEGA_DEBUG[key] = version;\n",
              "            return resolve(paths[lib]);\n",
              "          };\n",
              "          s.onerror = () => reject(`Error loading script: ${paths[lib]}`);\n",
              "          s.src = paths[lib];\n",
              "        });\n",
              "    }\n",
              "\n",
              "    function showError(err) {\n",
              "      outputDiv.innerHTML = `<div class=\"error\" style=\"color:red;\">${err}</div>`;\n",
              "      throw err;\n",
              "    }\n",
              "\n",
              "    function displayChart(vegaEmbed) {\n",
              "      vegaEmbed(outputDiv, spec, embedOpt)\n",
              "        .catch(err => showError(`Javascript Error: ${err.message}<br>This usually means there's a typo in your chart specification. See the javascript console for the full traceback.`));\n",
              "    }\n",
              "\n",
              "    if(typeof define === \"function\" && define.amd) {\n",
              "      requirejs.config({paths});\n",
              "      require([\"vega-embed\"], displayChart, err => showError(`Error loading script: ${err.message}`));\n",
              "    } else {\n",
              "      maybeLoadScript(\"vega\", \"5\")\n",
              "        .then(() => maybeLoadScript(\"vega-lite\", \"4.17.0\"))\n",
              "        .then(() => maybeLoadScript(\"vega-embed\", \"6\"))\n",
              "        .catch(showError)\n",
              "        .then(() => displayChart(vegaEmbed));\n",
              "    }\n",
              "  })({\"config\": {\"view\": {\"continuousWidth\": 400, \"continuousHeight\": 300}}, \"data\": {\"url\": \"https://api.economicsobservatory.com/egy/unem?vega\"}, \"mark\": {\"type\": \"line\", \"color\": \"red\"}, \"encoding\": {\"x\": {\"field\": \"date\", \"type\": \"temporal\"}, \"y\": {\"field\": \"value\", \"type\": \"quantitative\"}}, \"height\": 300, \"title\": {\"text\": \"Unemployment\", \"subtitle\": \"egy\"}, \"width\": 300, \"$schema\": \"https://vega.github.io/schema/vega-lite/v5.json\"}, {\"mode\": \"vega-lite\"});\n",
              "</script>"
            ],
            "text/plain": [
              "alt.Chart(...)"
            ]
          },
          "metadata": {}
        }
      ],
      "source": [
        "### RUNNING OUR LOOP\n",
        "\n",
        "# // Define our base url with the {} placeholder for the country code.\n",
        "base_api = 'https://api.economicsobservatory.com/{}/unem?vega'\n",
        "\n",
        "# // Create a list of countries we want to get data for:\n",
        "countries = ['gbr', 'usa', 'can', 'egy']\n",
        "\n",
        "for i in countries:\n",
        "  ## Build the api that we want to use:\n",
        "  apiToUse = base_api.format(i)\n",
        "  # print(apiToUse)\n",
        "\n",
        "  ## Now build the chart spec:\n",
        "  base_spec['data']['url'] = apiToUse\n",
        "  base_spec['title']['subtitle'] = i\n",
        "\n",
        "  # /// Turn the spec into JSON\n",
        "  specJSON = json.dumps(base_spec)\n",
        "\n",
        "  # /// Turn the json into an Altair chart and display it:\n",
        "  new_chart = alt.Chart.from_json(specJSON)\n",
        "  new_chart.display()\n"
      ]
    },
    {
      "cell_type": "code",
      "execution_count": null,
      "metadata": {
        "id": "10avxOPPVbBt"
      },
      "outputs": [],
      "source": []
    }
  ],
  "metadata": {
    "colab": {
      "provenance": [],
      "include_colab_link": true
    },
    "kernelspec": {
      "display_name": "Python 3",
      "name": "python3"
    },
    "language_info": {
      "codemirror_mode": {
        "name": "ipython",
        "version": 3
      },
      "file_extension": ".py",
      "mimetype": "text/x-python",
      "name": "python",
      "nbconvert_exporter": "python",
      "pygments_lexer": "ipython3",
      "version": "3.11.4"
    }
  },
  "nbformat": 4,
  "nbformat_minor": 0
}