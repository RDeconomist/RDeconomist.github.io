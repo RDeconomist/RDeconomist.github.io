{
  "nbformat": 4,
  "nbformat_minor": 0,
  "metadata": {
    "colab": {
      "provenance": []
    },
    "kernelspec": {
      "name": "python3",
      "display_name": "Python 3"
    },
    "language_info": {
      "name": "python"
    }
  },
  "cells": [
    {
      "cell_type": "markdown",
      "source": [
        "<a href=\"https://colab.research.google.com/github/EconomicsObservatory/courses/blob/main/3/s3_workbook.ipynb\" target=\"_blank\"><img src=\"https://colab.research.google.com/assets/colab-badge.svg\" alt=\"Open In Colab\"/></a>"
      ],
      "metadata": {
        "id": "JY8Otaz1_jZB"
      }
    },
    {
      "cell_type": "markdown",
      "source": [
        "**Richard Davies** Data Science Masterclass - 2024"
      ],
      "metadata": {
        "id": "fQu2dIu2ob5U"
      }
    },
    {
      "cell_type": "markdown",
      "source": [
        "## 1. Python basics\n",
        "\n",
        "In this notebook we will learn about some Python basics and useful methods with iterations (loops), that includes:\n",
        "- basic variable types, such as String and List\n",
        "- looping with lists\n",
        "- use loops to batch download data from an API."
      ],
      "metadata": {
        "id": "3o3bxcOyH6on"
      }
    },
    {
      "cell_type": "markdown",
      "source": [
        "### 1.1 Assigning and viewing variables"
      ],
      "metadata": {
        "id": "E6NfqtgFRdEp"
      }
    },
    {
      "cell_type": "markdown",
      "source": [
        "In Python, we can declare a variable and assign it a value using the assignment operator =."
      ],
      "metadata": {
        "id": "er-oC0qGIGfF"
      }
    },
    {
      "cell_type": "code",
      "source": [
        "x = 10        # Assign variable x the integer value 10\n",
        "y = x + 5     # Assign variable y the value of x + 5\n",
        "z = \"dog\"     # Assign variable z the string value \"dog\""
      ],
      "metadata": {
        "id": "ei_z-pRcKXIs"
      },
      "execution_count": null,
      "outputs": []
    },
    {
      "cell_type": "markdown",
      "source": [
        "We can print these variables to check their values"
      ],
      "metadata": {
        "id": "LloetHA0KrHG"
      }
    },
    {
      "cell_type": "code",
      "source": [
        "print(x, y, z)"
      ],
      "metadata": {
        "colab": {
          "base_uri": "https://localhost:8080/"
        },
        "id": "4FsQ6fh7KyhL",
        "outputId": "8f449784-9e51-4b84-ed44-668447d7ba05"
      },
      "execution_count": null,
      "outputs": [
        {
          "output_type": "stream",
          "name": "stdout",
          "text": [
            "10 15 dog\n"
          ]
        }
      ]
    },
    {
      "cell_type": "markdown",
      "source": [
        "### 1.2 Lists\n",
        "\n",
        "Lists are the most versatile datatype in Python. These are written as a list with comma separated values (items) between square brackets. Just like with numbers or strings, we can assign these to a variable using =."
      ],
      "metadata": {
        "id": "yEo0xRKrLlaw"
      }
    },
    {
      "cell_type": "code",
      "source": [
        "locations = [\"Swansea\", \"Cardiff\", \"Newport\"]   # Creating a list of locations\n",
        "\n",
        "# We have a list of locations, let's print these out\n",
        "print(locations)"
      ],
      "metadata": {
        "colab": {
          "base_uri": "https://localhost:8080/"
        },
        "id": "Yv26kvX8MK4Q",
        "outputId": "304b0c25-7092-4d5e-e12e-9484d439668c"
      },
      "execution_count": null,
      "outputs": [
        {
          "output_type": "stream",
          "name": "stdout",
          "text": [
            "['Swansea', 'Cardiff', 'Newport']\n"
          ]
        }
      ]
    },
    {
      "cell_type": "markdown",
      "source": [
        "If we want to retrieve individual items in the list, we use indexing.\n",
        "\n",
        "**Note:** One rule to remember is that indexing starts at 0. So the array above has positions 0, 1 and 2. Asking for position 3--which would seem to be Newport--will throw an error."
      ],
      "metadata": {
        "id": "EbiaZD5EL5Hh"
      }
    },
    {
      "cell_type": "code",
      "source": [
        "print(locations[0])\n",
        "print(locations[1])\n",
        "print(locations[2])"
      ],
      "metadata": {
        "colab": {
          "base_uri": "https://localhost:8080/"
        },
        "id": "iUAzn0NKM6kx",
        "outputId": "20ef8c32-50c3-4af8-e197-b2dd1311854b"
      },
      "execution_count": null,
      "outputs": [
        {
          "output_type": "stream",
          "name": "stdout",
          "text": [
            "Swansea\n",
            "Cardiff\n",
            "Newport\n"
          ]
        }
      ]
    },
    {
      "cell_type": "markdown",
      "source": [
        "### 1.3 Loops\n",
        "\n",
        "Any time we have repetitive code like the print locations above, we should consider a loop. This is not just to show off. Manually copying code like the above leads to errors, and it is time consuming. Loops make you more accurate, and more efficient.\n",
        "\n",
        "With the for loop we can execute a set of statements, once for each item in a list."
      ],
      "metadata": {
        "id": "hxPcB55pNAxV"
      }
    },
    {
      "cell_type": "code",
      "source": [
        "## Here is our first loop:\n",
        "\n",
        "locations = [\"Darlington\", \"London\", \"Newport\"]\n",
        "\n",
        "for location in locations:\n",
        "  print(x)"
      ],
      "metadata": {
        "colab": {
          "base_uri": "https://localhost:8080/"
        },
        "id": "6jw1j049SAgK",
        "outputId": "1b032140-553a-4524-fd7a-85d5f1631d76"
      },
      "execution_count": null,
      "outputs": [
        {
          "output_type": "stream",
          "name": "stdout",
          "text": [
            "Darlington\n",
            "London\n",
            "Newport\n"
          ]
        }
      ]
    },
    {
      "cell_type": "markdown",
      "source": [
        "**Note:** Often in tutorials, you will see singular/plural names used. e.g. ```for fruit in fruits```, where `fruits` is a list of fruit names.\n",
        "\n",
        "The names themselves can be ignored, it is what they represent that matters. In the first line we define a list of locations. The name that comes after the `for` is just an indentifier that iterates over list."
      ],
      "metadata": {
        "id": "WJgl578FTLq_"
      }
    },
    {
      "cell_type": "code",
      "source": [
        "placeList = [\"Darlington\", \"Newport\", \"London\"]\n",
        "for i in placeList:\n",
        "  print(i)"
      ],
      "metadata": {
        "colab": {
          "base_uri": "https://localhost:8080/"
        },
        "id": "16WSmkEgSAQL",
        "outputId": "89288c88-a2e5-4528-e8c1-d88d7bea8ddf"
      },
      "execution_count": null,
      "outputs": [
        {
          "output_type": "stream",
          "name": "stdout",
          "text": [
            "Darlington\n",
            "Newport\n",
            "London\n"
          ]
        }
      ]
    },
    {
      "cell_type": "markdown",
      "source": [
        "The names are different but the output is exactly the same."
      ],
      "metadata": {
        "id": "rfhVS8lCU7WV"
      }
    },
    {
      "cell_type": "markdown",
      "source": [
        "### 1.4 String formatting\n",
        "\n",
        "To get the most out of loops, we need to be able to dynamically change strings in each iteration. This will be useful later when we want to want to make different API request and save data using different names in each loop iteration."
      ],
      "metadata": {
        "id": "0Q86xlmIVEb6"
      }
    },
    {
      "cell_type": "code",
      "source": [
        "# Preliminaries 1 - the format() method:\n",
        "# See: https://www.w3schools.com/python/ref_string_format.asp\n",
        "\n",
        "# Take a sentence, and put a placeholder {} where we want to insert something:\n",
        "sentence = \"The best rugby team in the world is {}\"\n",
        "# Now we can use .format() to insert something into this place:\n",
        "sentence.format('Wales')"
      ],
      "metadata": {
        "colab": {
          "base_uri": "https://localhost:8080/",
          "height": 35
        },
        "id": "MGAuNZhEXzEn",
        "outputId": "263a7e31-e032-4b25-af6c-50f2dd9a491b"
      },
      "execution_count": null,
      "outputs": [
        {
          "output_type": "execute_result",
          "data": {
            "text/plain": [
              "'The best rugby team in the world is Wales'"
            ],
            "application/vnd.google.colaboratory.intrinsic+json": {
              "type": "string"
            }
          },
          "metadata": {},
          "execution_count": 20
        }
      ]
    },
    {
      "cell_type": "markdown",
      "source": [
        "**Note:** the `format()` method is a pre-defined piece of code that you must use. But `sentence` is just a variable name, it can be anything."
      ],
      "metadata": {
        "id": "YciE_1UIYQkD"
      }
    },
    {
      "cell_type": "markdown",
      "source": [
        "We can also use the `format()` method with a variable."
      ],
      "metadata": {
        "id": "PVer-4sfYn40"
      }
    },
    {
      "cell_type": "code",
      "source": [
        "# Note: 'format()' method is a pre-defined piece of code that you must use;\n",
        "# But 'sentence' is just a variable name, it can be anything:\n",
        "sentence = \"The best football team in the world is {}\"\n",
        "team = 'Manchester United'\n",
        "sentence.format(team)"
      ],
      "metadata": {
        "colab": {
          "base_uri": "https://localhost:8080/",
          "height": 35
        },
        "id": "043m_ILxY2uX",
        "outputId": "58ddba62-4c13-4d9b-eca2-cba9a8db2271"
      },
      "execution_count": null,
      "outputs": [
        {
          "output_type": "execute_result",
          "data": {
            "text/plain": [
              "'The best football team in the world is Manchester United'"
            ],
            "application/vnd.google.colaboratory.intrinsic+json": {
              "type": "string"
            }
          },
          "metadata": {},
          "execution_count": 23
        }
      ]
    },
    {
      "cell_type": "markdown",
      "source": [
        "Now, we're ready to use the format method in a loop. We'll iterate through a list, and inject each list item into a pre-defined sentence."
      ],
      "metadata": {
        "id": "IGwYGzPlZIwA"
      }
    },
    {
      "cell_type": "code",
      "source": [
        "text = \"The best team is {}\"  # Define a sentence with the {} placeholder.\n",
        "teams = [\n",
        "    'Manchester United', 'AC Milan', 'Barcelona', 'PSG', 'Bayern Munich', 'River Plate'\n",
        "]   # Define a list of team names\n",
        "\n",
        "# Begin a loop, dealing each list item one-by-one.\n",
        "for i in teams:\n",
        "    top_team = sentence.format(i)    # Format `text` with team name\n",
        "    print(top_team)                  # Print our formatted string\n"
      ],
      "metadata": {
        "colab": {
          "base_uri": "https://localhost:8080/"
        },
        "id": "rLFzFp1lZIDx",
        "outputId": "b180b55a-a7e3-438a-c18e-be063af197fe"
      },
      "execution_count": null,
      "outputs": [
        {
          "output_type": "stream",
          "name": "stdout",
          "text": [
            "The best football team in the world is Manchester United\n",
            "The best football team in the world is AC Milan\n",
            "The best football team in the world is Barcelona\n",
            "The best football team in the world is PSG\n",
            "The best football team in the world is Bayern Munich\n",
            "The best football team in the world is River Plate\n"
          ]
        }
      ]
    },
    {
      "cell_type": "markdown",
      "source": [],
      "metadata": {
        "id": "-Rf7EX_wZBD_"
      }
    },
    {
      "cell_type": "markdown",
      "source": [
        "---"
      ],
      "metadata": {
        "id": "DKg2vT3ObIHp"
      }
    },
    {
      "cell_type": "markdown",
      "source": [
        "# 2. Looping through API: FRED\n",
        "\n",
        "FRED, or Federal Reserve Economic Data, is an online database with hundreds of thousands of data series, covering both US and international data timeseries.\n",
        "\n",
        "We'll use the loops and string formatting techniques to batch download data from the FRED API.\n",
        "\n",
        "**Motivation:** You are asked by your Minister to build a dashboard for the US economy. This must take in 10 important series, each of them plotted with a line chart. The data will need to be re-downloaded each month, meaning that you are manually downloading 120 series per year, in order to keep your dashboard up to date. How can we bath process this, so that all downloads are done with one click?"
      ],
      "metadata": {
        "id": "WNP3NmHAo8aj"
      }
    },
    {
      "cell_type": "markdown",
      "source": [
        "Before writing the loop, we'll import the tools (packages) that we will need. Packages provide additional functionality to Python programming."
      ],
      "metadata": {
        "id": "XTU9Hjn7pJ8C"
      }
    },
    {
      "cell_type": "code",
      "source": [
        "# // Opening web sites and retrieving information:\n",
        "import requests\n",
        "\n",
        "# // JSON. This helps us make JSON look prettier and easier to read\n",
        "import json"
      ],
      "metadata": {
        "id": "-kuantn8pA6d"
      },
      "execution_count": null,
      "outputs": []
    },
    {
      "cell_type": "markdown",
      "source": [
        "First, define the FRED series we want to download. We'll create a list of the series codes we want data for. To find more data series, go to the [FRED](https://fred.stlouisfed.org/)\n",
        "\n",
        "**Note:** Since these are codes are made up of letters and numbers, they must be string type (i.e. surrounded by \" \" or ' ' quotes)"
      ],
      "metadata": {
        "id": "CvADaP-kpcqV"
      }
    },
    {
      "cell_type": "code",
      "source": [
        "fred_series = [\n",
        "    'PCEPI', 'CPIAUCSL', 'PAYEMS', 'DGS10', 'INDPRO', 'UNRATE',  'LES1252881600Q'\n",
        "]\n",
        "\n",
        "for i in fred_series:\n",
        "  print(i) # Print the series code we're about to download.\n",
        "\n",
        "  # 1. Create unique api-url for that series\n",
        "  url = f'https://api.stlouisfed.org/fred/series/observations?series_id={i}&api_key=22ee7a76e736e32f54f5df0a7171538d&file_type=json'\n",
        "  print(url)\n",
        "\n",
        "  # # 2. Download data from the URL. Requesting json format.\n",
        "  # data = requests.get(url).json()"
      ],
      "metadata": {
        "colab": {
          "base_uri": "https://localhost:8080/"
        },
        "id": "1N4WWnGOsrox",
        "outputId": "d22a39c4-c817-46f3-d847-1bb28c67d5a8"
      },
      "execution_count": null,
      "outputs": [
        {
          "output_type": "stream",
          "name": "stdout",
          "text": [
            "PCEPI\n",
            "https://api.stlouisfed.org/fred/series/observations?series_id=PCEPI&api_key=22ee7a76e736e32f54f5df0a7171538d&file_type=json\n",
            "CPIAUCSL\n",
            "https://api.stlouisfed.org/fred/series/observations?series_id=CPIAUCSL&api_key=22ee7a76e736e32f54f5df0a7171538d&file_type=json\n",
            "PAYEMS\n",
            "https://api.stlouisfed.org/fred/series/observations?series_id=PAYEMS&api_key=22ee7a76e736e32f54f5df0a7171538d&file_type=json\n",
            "DGS10\n",
            "https://api.stlouisfed.org/fred/series/observations?series_id=DGS10&api_key=22ee7a76e736e32f54f5df0a7171538d&file_type=json\n",
            "INDPRO\n",
            "https://api.stlouisfed.org/fred/series/observations?series_id=INDPRO&api_key=22ee7a76e736e32f54f5df0a7171538d&file_type=json\n",
            "UNRATE\n",
            "https://api.stlouisfed.org/fred/series/observations?series_id=UNRATE&api_key=22ee7a76e736e32f54f5df0a7171538d&file_type=json\n",
            "LES1252881600Q\n",
            "https://api.stlouisfed.org/fred/series/observations?series_id=LES1252881600Q&api_key=22ee7a76e736e32f54f5df0a7171538d&file_type=json\n"
          ]
        }
      ]
    },
    {
      "cell_type": "markdown",
      "source": [
        "Second, we'll loop through each item in this list. In each loop iteration:\n",
        "1. Define the API URL for that specific data series.\n",
        "2.  Use the `requests` package to download the JSON data from the API. Save this data into a variable.\n",
        "3. Create a unique filename for that data series.\n",
        "4. Save the JSON data to separate files."
      ],
      "metadata": {
        "id": "OfIEAj9js56W"
      }
    },
    {
      "cell_type": "code",
      "source": [],
      "metadata": {
        "colab": {
          "base_uri": "https://localhost:8080/"
        },
        "id": "WhJ6_SqJs07F",
        "outputId": "207d7fd1-dead-4a24-f627-6eaad0547bc7"
      },
      "execution_count": null,
      "outputs": [
        {
          "output_type": "stream",
          "name": "stdout",
          "text": [
            "PCEPI\n",
            "CPIAUCSL\n",
            "PAYEMS\n",
            "DGS10\n",
            "INDPRO\n",
            "UNRATE\n",
            "LES1252881600Q\n"
          ]
        }
      ]
    },
    {
      "cell_type": "code",
      "source": [
        "# // PUTTING IT ALL TOGETHER:\n",
        "\n",
        "# // Set the base url:\n",
        "url_base = \"https://api.stlouisfed.org/fred/series/observations?series_id={}&api_key=22ee7a76e736e32f54f5df0a7171538d&file_type=json\"\n",
        "\n",
        "\n",
        "# // Set the base fileName:\n",
        "file_base = \"data_FRED-{}.json\"\n",
        "\n",
        "# // Pick the series that I want:\n",
        "fredSeries = [\n",
        "    'PCEPI', 'CPIAUCSL', 'PAYEMS', 'DGS10', 'INDPRO', 'UNRATE',\n",
        "    'LES1252881600Q', 'MANMM101GBM189S'\n",
        "]\n",
        "\n",
        "# // Begin a loop, dealing with each series, one by one:\n",
        "for i in fredSeries:\n",
        "\n",
        "    # // In what follows below I print the iteration of the loop we are on:\n",
        "    # // This is not necessary but can be helpful, esp with long loops:\n",
        "    print(\"------Iteration Starts--------\")\n",
        "    print(i)\n",
        "\n",
        "    # // Build the URL for this iteration of the loop, and check what we are getting:\n",
        "    URL = url_base.format(i)\n",
        "    print(URL)\n",
        "\n",
        "    # // Request the html from the URL, and format as JSON:\n",
        "    data = requests.get(URL).json()\n",
        "\n",
        "    # // Set the filename, and check what we are getting:\n",
        "    fileName = file_base.format(i)\n",
        "    print('Data saved to', fileName)\n",
        "\n",
        "    # // Add some white space to our output. (This is purely so we can see what is happening below clearly)\n",
        "    print(\"------Iteration Ends--------\\n\")\n",
        "\n",
        "    # /// Save the file:\n",
        "    with open(fileName, 'w', encoding='utf-8') as f:\n",
        "        json.dump(data, f, ensure_ascii=False, indent=4)"
      ],
      "metadata": {
        "colab": {
          "base_uri": "https://localhost:8080/"
        },
        "id": "wPyxrJu4ARZp",
        "outputId": "ad58e74e-81f8-4388-ef0b-386c55cfa34b"
      },
      "execution_count": null,
      "outputs": [
        {
          "output_type": "stream",
          "name": "stdout",
          "text": [
            "------Iteration Starts--------\n",
            "PCEPI\n",
            "https://api.allorigins.win/raw?url=https%3A%2F%2Fapi.stlouisfed.org%2Ffred%2Fseries%2Fobservations%3Fseries_id%3DPCEPI%26api_key%3D838a40e4f5a37b6b4d8c9cfc4b1abaff%26file_type%3Djson\n",
            "Data saved to data_FRED-PCEPI.json\n",
            "------Iteration Ends--------\n",
            "\n",
            "------Iteration Starts--------\n",
            "CPIAUCSL\n",
            "https://api.allorigins.win/raw?url=https%3A%2F%2Fapi.stlouisfed.org%2Ffred%2Fseries%2Fobservations%3Fseries_id%3DCPIAUCSL%26api_key%3D838a40e4f5a37b6b4d8c9cfc4b1abaff%26file_type%3Djson\n",
            "Data saved to data_FRED-CPIAUCSL.json\n",
            "------Iteration Ends--------\n",
            "\n",
            "------Iteration Starts--------\n",
            "PAYEMS\n",
            "https://api.allorigins.win/raw?url=https%3A%2F%2Fapi.stlouisfed.org%2Ffred%2Fseries%2Fobservations%3Fseries_id%3DPAYEMS%26api_key%3D838a40e4f5a37b6b4d8c9cfc4b1abaff%26file_type%3Djson\n",
            "Data saved to data_FRED-PAYEMS.json\n",
            "------Iteration Ends--------\n",
            "\n",
            "------Iteration Starts--------\n",
            "DGS10\n",
            "https://api.allorigins.win/raw?url=https%3A%2F%2Fapi.stlouisfed.org%2Ffred%2Fseries%2Fobservations%3Fseries_id%3DDGS10%26api_key%3D838a40e4f5a37b6b4d8c9cfc4b1abaff%26file_type%3Djson\n",
            "Data saved to data_FRED-DGS10.json\n",
            "------Iteration Ends--------\n",
            "\n",
            "------Iteration Starts--------\n",
            "INDPRO\n",
            "https://api.allorigins.win/raw?url=https%3A%2F%2Fapi.stlouisfed.org%2Ffred%2Fseries%2Fobservations%3Fseries_id%3DINDPRO%26api_key%3D838a40e4f5a37b6b4d8c9cfc4b1abaff%26file_type%3Djson\n",
            "Data saved to data_FRED-INDPRO.json\n",
            "------Iteration Ends--------\n",
            "\n",
            "------Iteration Starts--------\n",
            "UNRATE\n",
            "https://api.allorigins.win/raw?url=https%3A%2F%2Fapi.stlouisfed.org%2Ffred%2Fseries%2Fobservations%3Fseries_id%3DUNRATE%26api_key%3D838a40e4f5a37b6b4d8c9cfc4b1abaff%26file_type%3Djson\n",
            "Data saved to data_FRED-UNRATE.json\n",
            "------Iteration Ends--------\n",
            "\n",
            "------Iteration Starts--------\n",
            "LES1252881600Q\n",
            "https://api.allorigins.win/raw?url=https%3A%2F%2Fapi.stlouisfed.org%2Ffred%2Fseries%2Fobservations%3Fseries_id%3DLES1252881600Q%26api_key%3D838a40e4f5a37b6b4d8c9cfc4b1abaff%26file_type%3Djson\n",
            "Data saved to data_FRED-LES1252881600Q.json\n",
            "------Iteration Ends--------\n",
            "\n",
            "------Iteration Starts--------\n",
            "MANMM101GBM189S\n",
            "https://api.allorigins.win/raw?url=https%3A%2F%2Fapi.stlouisfed.org%2Ffred%2Fseries%2Fobservations%3Fseries_id%3DMANMM101GBM189S%26api_key%3D838a40e4f5a37b6b4d8c9cfc4b1abaff%26file_type%3Djson\n",
            "Data saved to data_FRED-MANMM101GBM189S.json\n",
            "------Iteration Ends--------\n",
            "\n"
          ]
        }
      ]
    },
    {
      "cell_type": "code",
      "source": [
        "fred_series = ['LNS14024887', 'LNS14000089', 'LNS14000091', 'LNS14000093', 'LNU04000095']\n",
        "\n",
        "for i in fred_series:\n",
        "  print(i) # Print the series code we're about to download.\n",
        "\n",
        "  # 1. Create unique api-url for that series\n",
        "  url = f'https://api.stlouisfed.org/fred/series/observations?series_id={i}&api_key=22ee7a76e736e32f54f5df0a7171538d&file_type=json'\n",
        "  print(url)\n",
        "\n",
        "  # 2. Download data from the URL. Requesting json format.\n",
        "  data = requests.get(url).json()"
      ],
      "metadata": {
        "colab": {
          "base_uri": "https://localhost:8080/"
        },
        "id": "BCW9drZa9Yr5",
        "outputId": "757ae1ed-544b-46a1-fd1a-adf9712def4a"
      },
      "execution_count": null,
      "outputs": [
        {
          "output_type": "stream",
          "name": "stdout",
          "text": [
            "LNS14024887\n",
            "https://api.stlouisfed.org/fred/series/observations?series_id=LNS14024887&api_key=22ee7a76e736e32f54f5df0a7171538d&file_type=json\n",
            "LNS14000089\n",
            "https://api.stlouisfed.org/fred/series/observations?series_id=LNS14000089&api_key=22ee7a76e736e32f54f5df0a7171538d&file_type=json\n",
            "LNS14000091\n",
            "https://api.stlouisfed.org/fred/series/observations?series_id=LNS14000091&api_key=22ee7a76e736e32f54f5df0a7171538d&file_type=json\n",
            "LNS14000093\n",
            "https://api.stlouisfed.org/fred/series/observations?series_id=LNS14000093&api_key=22ee7a76e736e32f54f5df0a7171538d&file_type=json\n",
            "LNU04000095\n",
            "https://api.stlouisfed.org/fred/series/observations?series_id=LNU04000095&api_key=22ee7a76e736e32f54f5df0a7171538d&file_type=json\n"
          ]
        }
      ]
    },
    {
      "cell_type": "markdown",
      "source": [
        "Next steps to turn this data into a chart:\n",
        "1. Go to the Colab Files tab and download one of the FRED series json files.\n",
        "2. Go to your Github repository, and upload this file.\n",
        "3. Get the example chart template, then replace the data url with your raw JSON file link."
      ],
      "metadata": {
        "id": "A6Hvq4m_cxuK"
      }
    },
    {
      "cell_type": "markdown",
      "source": [
        "---"
      ],
      "metadata": {
        "id": "AHnOwdz5cg51"
      }
    },
    {
      "cell_type": "markdown",
      "source": [
        "## 2. Looping through API: ECO\n",
        "\n",
        "Batch downloading data is a very useful tool. However, as we've shown, we can use APIs to pull data directly into charts, skipping the downloading and uploading steps.\n",
        "\n",
        "Now, we'll create a loop to build us different API URLs, and use these URLs directly within our vega-lite editor to create a chart."
      ],
      "metadata": {
        "id": "C8YmxqtochkC"
      }
    },
    {
      "cell_type": "markdown",
      "source": [
        "**Note:** go to the Economics Observatory [data-hub](https://www.economicsobservatory.com/data-hub) to find out which countries and data series are available on the ECO API."
      ],
      "metadata": {
        "id": "hXAqaTLAdiq0"
      }
    },
    {
      "cell_type": "markdown",
      "source": [
        "ECO API structure: https://api.economicsobservatory.com/{3_letter_country_code}/{series_code}\n",
        "\n",
        "\n",
        "For example: to get inflation data for the UK, we would use this url:\n",
        "- https://api.economicsobservatory.com/gbr/infl\n",
        "\n",
        "For France, this we get inflation data at this url:\n",
        "- https://api.economicsobservatory.com/fra/infl\n"
      ],
      "metadata": {
        "id": "1GrkkhGqd7mi"
      }
    },
    {
      "cell_type": "markdown",
      "source": [
        "For this task, we'll produce the URL endpoints for Unemployment from a selection of countries. The unemployment rate series code is `unem`"
      ],
      "metadata": {
        "id": "ah3v9O8wevjn"
      }
    },
    {
      "cell_type": "code",
      "source": [
        "# Define our base url with the {} placeholder for the country code.\n",
        "base_url = 'https://api.economicsobservatory.com/{}/unem'\n",
        "\n",
        "# Create a list of countries we want to get data for\n",
        "countries = ['gbr', 'usa', 'can', 'aus']\n",
        "\n",
        "for i in countries:\n",
        "  print(base_url.format(i, i))"
      ],
      "metadata": {
        "colab": {
          "base_uri": "https://localhost:8080/"
        },
        "id": "PW6L_yKnvySt",
        "outputId": "1578cd72-8e4c-4bfb-dca0-bd861dddb505"
      },
      "execution_count": null,
      "outputs": [
        {
          "output_type": "stream",
          "name": "stdout",
          "text": [
            "https://api.economicsobservatory.com/gbr/unem\n",
            "https://api.economicsobservatory.com/usa/unem\n",
            "https://api.economicsobservatory.com/can/unem\n",
            "https://api.economicsobservatory.com/aus/unem\n"
          ]
        }
      ]
    },
    {
      "cell_type": "markdown",
      "source": [],
      "metadata": {
        "id": "D2ornhe7gWKc"
      }
    },
    {
      "cell_type": "markdown",
      "source": [
        "**Advanced example:** Loop within a loop.\n",
        "\n",
        "We'll use a nested for loop to iterate through different countries and different series codes.\n"
      ],
      "metadata": {
        "id": "GUCteBCOfJ8v"
      }
    },
    {
      "cell_type": "code",
      "source": [
        "base_url = 'https://api.economicsobservatory.com/{}/{}'\n",
        "\n",
        "countries = ['gbr', 'usa', 'fra']\n",
        "\n",
        "eco_series = ['popu', 'infl', 'grow']\n",
        "\n",
        "# First, set up country loop\n",
        "for i in countries:\n",
        "  # Second, set up series for loop\n",
        "  for s in eco_series:\n",
        "    print(base_url.format(i, s))    # Print out each url"
      ],
      "metadata": {
        "colab": {
          "base_uri": "https://localhost:8080/"
        },
        "id": "Yhe8KNeZfX2p",
        "outputId": "1f0c96e7-399d-462e-cfec-6b49bbb784ea"
      },
      "execution_count": null,
      "outputs": [
        {
          "output_type": "stream",
          "name": "stdout",
          "text": [
            "https://api.economicsobservatory.com/gbr/popu\n",
            "https://api.economicsobservatory.com/gbr/infl\n",
            "https://api.economicsobservatory.com/gbr/grow\n",
            "https://api.economicsobservatory.com/usa/popu\n",
            "https://api.economicsobservatory.com/usa/infl\n",
            "https://api.economicsobservatory.com/usa/grow\n",
            "https://api.economicsobservatory.com/fra/popu\n",
            "https://api.economicsobservatory.com/fra/infl\n",
            "https://api.economicsobservatory.com/fra/grow\n"
          ]
        }
      ]
    },
    {
      "cell_type": "markdown",
      "source": [
        "# END"
      ],
      "metadata": {
        "id": "pdgsZxblgJnH"
      }
    },
    {
      "cell_type": "markdown",
      "source": [
        "---\n",
        "---"
      ],
      "metadata": {
        "id": "BgVEEakInN_d"
      }
    },
    {
      "cell_type": "markdown",
      "source": [
        "### Loop Examples"
      ],
      "metadata": {
        "id": "mibZxi8rnQjZ"
      }
    },
    {
      "cell_type": "markdown",
      "source": [
        "We can iterate through a number sequence by using ```range``` function. Note that the range function is zero based."
      ],
      "metadata": {
        "id": "4rQ-zh_MonWZ"
      }
    },
    {
      "cell_type": "code",
      "source": [
        "for i in range(6):\n",
        "  print(i)"
      ],
      "metadata": {
        "colab": {
          "base_uri": "https://localhost:8080/"
        },
        "id": "YPQeH3UknbqB",
        "outputId": "d6222a84-08ff-4edf-9bd8-bf3272af0748"
      },
      "execution_count": null,
      "outputs": [
        {
          "output_type": "stream",
          "name": "stdout",
          "text": [
            "0\n",
            "1\n",
            "2\n",
            "3\n",
            "4\n",
            "5\n"
          ]
        }
      ]
    },
    {
      "cell_type": "code",
      "source": [
        "for i in range(1, 6):\n",
        "  print(i)"
      ],
      "metadata": {
        "colab": {
          "base_uri": "https://localhost:8080/"
        },
        "id": "g5fOz7nEnOWA",
        "outputId": "ae40bd77-4920-41ea-df0a-61e49d0769e7"
      },
      "execution_count": null,
      "outputs": [
        {
          "output_type": "stream",
          "name": "stdout",
          "text": [
            "1\n",
            "2\n",
            "3\n",
            "4\n",
            "5\n"
          ]
        }
      ]
    },
    {
      "cell_type": "code",
      "source": [
        "for i in range(0, 10, 4):\n",
        "  print(i)"
      ],
      "metadata": {
        "colab": {
          "base_uri": "https://localhost:8080/"
        },
        "id": "-xk9dPVtnXC3",
        "outputId": "be58a782-f96c-4ecb-96c7-3695033e2948"
      },
      "execution_count": null,
      "outputs": [
        {
          "output_type": "stream",
          "name": "stdout",
          "text": [
            "0\n",
            "4\n",
            "8\n"
          ]
        }
      ]
    },
    {
      "cell_type": "code",
      "source": [],
      "metadata": {
        "id": "VQkwGW7enwSF"
      },
      "execution_count": null,
      "outputs": []
    }
  ]
}